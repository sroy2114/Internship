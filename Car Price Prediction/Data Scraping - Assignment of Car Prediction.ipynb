{
 "cells": [
  {
   "cell_type": "markdown",
   "id": "495212f3",
   "metadata": {},
   "source": [
    "# Web Scaping - Car Price Prediction Project"
   ]
  },
  {
   "cell_type": "markdown",
   "id": "385cdd5f",
   "metadata": {},
   "source": [
    "### Problem Statement"
   ]
  },
  {
   "cell_type": "markdown",
   "id": "ff1d677e",
   "metadata": {},
   "source": [
    "With the covid 19 impact in the market, we have seen lot of changes in the car market. Now some cars are in demand hence making them costly and some are not in demand hence cheaper. One of our clients works with small traders, who sell used cars. With the change in market due to covid 19 impact, our client is facing problems with their previous car price valuation machine learning models. So, they are looking for new machine learning models from new data. We have to make car price valuation model. This project contains two phase"
   ]
  },
  {
   "cell_type": "markdown",
   "id": "3cad6521",
   "metadata": {},
   "source": [
    "# Data Collection Phase\n",
    "\n",
    "You have to scrape at least 5000 used cars data. You can scrape more data as well, it’s up to you. more the data better the model In this section You need to scrape the data of used cars from websites (Olx, cardekho, Cars24 etc.) You need web scraping for this. You have to fetch data for different locations. The number of columns for data doesn’t have limit, it’s up to you and your creativity. Generally, these columns are Brand, model, variant, manufacturing year, driven kilometers, fuel, number of owners, location and at last target variable Price of the car. This data is to give you a hint about important variables in used car model. You can make changes to it, you can add or you can remove some columns, it completely depends on the website from which you are fetching the data. Try to include all types of cars in your data for example- SUV, Sedans, Coupe, minivan, Hatchback.\n",
    "\n",
    "Note – The data which you are collecting is important to us. Kindly don’t share it on any public platforms."
   ]
  },
  {
   "cell_type": "markdown",
   "id": "4c6b59b0",
   "metadata": {},
   "source": [
    "### Import Necessary libraries"
   ]
  },
  {
   "cell_type": "code",
   "execution_count": 1,
   "id": "38333aa8",
   "metadata": {},
   "outputs": [],
   "source": [
    "import selenium\n",
    "import pandas as pd\n",
    "from selenium import webdriver\n",
    "import warnings\n",
    "warnings.filterwarnings(\"ignore\")\n",
    "from selenium.common.exceptions import StaleElementReferenceException, NoSuchElementException\n",
    "from selenium.webdriver.common.by import By\n",
    "import time\n",
    "import requests\n",
    "from time import sleep"
   ]
  },
  {
   "cell_type": "code",
   "execution_count": 7,
   "id": "c2393e6a",
   "metadata": {},
   "outputs": [],
   "source": [
    "driver=webdriver.Chrome(r\"C:\\Users\\91741\\Downloads\\chromedriver_win32 (1)\\chromedriver.exe\")"
   ]
  },
  {
   "cell_type": "code",
   "execution_count": 8,
   "id": "b8c49776",
   "metadata": {},
   "outputs": [],
   "source": [
    "#open the page in automated chrome browser\n",
    "\n",
    "driver.get(\"https://www.cardekho.com/used-cars+in+ahmedabad\")\n",
    "time.sleep(2)"
   ]
  },
  {
   "cell_type": "code",
   "execution_count": 9,
   "id": "f0af29c6",
   "metadata": {},
   "outputs": [
    {
     "name": "stderr",
     "output_type": "stream",
     "text": [
      "100%|████████████████████████████████████████████████████████████████████████████████| 200/200 [06:46<00:00,  2.03s/it]\n"
     ]
    }
   ],
   "source": [
    "from tqdm import tqdm\n",
    "for _ in tqdm(range(0,200)):\n",
    "    time.sleep(1)\n",
    "    driver.execute_script(\"window.scrollBy(0,1000)\",\"\")\n",
    "    time.sleep(1)\n",
    "    driver.execute_script(\"window.scrollBy(0,-350)\")"
   ]
  },
  {
   "cell_type": "code",
   "execution_count": 10,
   "id": "0676c1bb",
   "metadata": {},
   "outputs": [
    {
     "name": "stderr",
     "output_type": "stream",
     "text": [
      "100%|██████████████████████████████████████████████████████████████████████████████████| 60/60 [00:00<00:00, 86.17it/s]\n"
     ]
    }
   ],
   "source": [
    "url_ahmedabad = []\n",
    "url_ahm = driver.find_elements(By.XPATH,'//div[@class=\"titlebox hover\"]/h3/a')\n",
    "l= len(url_ahm)\n",
    "for i in tqdm(range(l)):\n",
    "    url_ahmedabad.append(url_ahm[i].get_attribute('href'))\n",
    "time.sleep(2)"
   ]
  },
  {
   "cell_type": "code",
   "execution_count": 12,
   "id": "16f3d250",
   "metadata": {},
   "outputs": [],
   "source": [
    "#First connect to the driver\n",
    "\n",
    "driver=webdriver.Chrome(r\"C:\\Users\\91741\\Downloads\\chromedriver_win32 (1)\\chromedriver.exe\")\n",
    "\n",
    "#open the page in automated chrome browser\n",
    "\n",
    "driver.get(\"https://www.cardekho.com/used-cars+in+bangalore\")\n",
    "time.sleep(2)"
   ]
  },
  {
   "cell_type": "code",
   "execution_count": 13,
   "id": "823b09b5",
   "metadata": {},
   "outputs": [
    {
     "name": "stderr",
     "output_type": "stream",
     "text": [
      "100%|████████████████████████████████████████████████████████████████████████████████| 120/120 [04:04<00:00,  2.04s/it]\n"
     ]
    }
   ],
   "source": [
    "from tqdm import tqdm\n",
    "for _ in tqdm(range(0,120)):\n",
    "    time.sleep(1)\n",
    "    driver.execute_script(\"window.scrollBy(0,1100)\",\"\")\n",
    "    time.sleep(1)\n",
    "    driver.execute_script(\"window.scrollBy(0,-350)\")"
   ]
  },
  {
   "cell_type": "code",
   "execution_count": 14,
   "id": "2ac000c3",
   "metadata": {},
   "outputs": [
    {
     "name": "stderr",
     "output_type": "stream",
     "text": [
      "100%|██████████████████████████████████████████████████████████████████████████████████| 20/20 [00:00<00:00, 68.87it/s]\n"
     ]
    }
   ],
   "source": [
    "url_bangalore = []\n",
    "url_ban = driver.find_elements(By.XPATH,'//div[@class=\"titlebox hover\"]/h3/a')\n",
    "l= len(url_ban)\n",
    "for i in tqdm(range(l)):\n",
    "    url_bangalore.append(url_ban[i].get_attribute('href'))\n",
    "time.sleep(2)"
   ]
  },
  {
   "cell_type": "code",
   "execution_count": 17,
   "id": "40fffec6",
   "metadata": {},
   "outputs": [],
   "source": [
    "#First connect to the driver\n",
    "\n",
    "driver=webdriver.Chrome(r\"C:\\Users\\91741\\Downloads\\chromedriver_win32 (1)\\chromedriver.exe\")\n",
    "\n",
    "#open the page in automated chrome browser\n",
    "\n",
    "driver.get('https://www.cardekho.com/used-cars+in+chennai')\n",
    "time.sleep(2)"
   ]
  },
  {
   "cell_type": "code",
   "execution_count": 18,
   "id": "cb349f7d",
   "metadata": {},
   "outputs": [
    {
     "name": "stderr",
     "output_type": "stream",
     "text": [
      "100%|████████████████████████████████████████████████████████████████████████████████| 150/150 [03:50<00:00,  1.54s/it]\n"
     ]
    }
   ],
   "source": [
    "from tqdm import tqdm\n",
    "for _ in tqdm(range(0,150)):\n",
    "    time.sleep(0.5)\n",
    "    driver.execute_script(\"window.scrollBy(0,1000)\",\"\")\n",
    "    time.sleep(1)\n",
    "    driver.execute_script(\"window.scrollBy(0,-400)\")"
   ]
  },
  {
   "cell_type": "code",
   "execution_count": 19,
   "id": "b1d0a977",
   "metadata": {},
   "outputs": [
    {
     "name": "stderr",
     "output_type": "stream",
     "text": [
      "100%|██████████████████████████████████████████████████████████████████████████████████| 20/20 [00:00<00:00, 58.80it/s]\n"
     ]
    }
   ],
   "source": [
    "url_chennai = []\n",
    "url_chen = driver.find_elements(By.XPATH,'//div[@class=\"titlebox hover\"]/h3/a')\n",
    "l= len(url_chen)\n",
    "for i in tqdm(range(l)):\n",
    "    url_chennai.append(url_chen[i].get_attribute('href'))\n",
    "time.sleep(2)"
   ]
  },
  {
   "cell_type": "code",
   "execution_count": 20,
   "id": "d7021815",
   "metadata": {},
   "outputs": [],
   "source": [
    "#First connect to the driver\n",
    "\n",
    "driver=webdriver.Chrome(r\"C:\\Users\\91741\\Downloads\\chromedriver_win32 (1)\\chromedriver.exe\")\n",
    "\n",
    "#open the page in automated chrome browser\n",
    "\n",
    "driver.get('https://www.cardekho.com/used-cars+in+delhi-ncr')\n",
    "time.sleep(2)"
   ]
  },
  {
   "cell_type": "code",
   "execution_count": 21,
   "id": "145a880a",
   "metadata": {},
   "outputs": [
    {
     "name": "stderr",
     "output_type": "stream",
     "text": [
      "100%|████████████████████████████████████████████████████████████████████████████████| 200/200 [06:46<00:00,  2.03s/it]\n"
     ]
    }
   ],
   "source": [
    "from tqdm import tqdm\n",
    "for _ in tqdm(range(0,200)):\n",
    "    time.sleep(1)\n",
    "    driver.execute_script(\"window.scrollBy(0,1200)\",\"\")\n",
    "    time.sleep(1)\n",
    "    driver.execute_script(\"window.scrollBy(0,-350)\")"
   ]
  },
  {
   "cell_type": "code",
   "execution_count": 22,
   "id": "e3c91d7d",
   "metadata": {},
   "outputs": [
    {
     "name": "stderr",
     "output_type": "stream",
     "text": [
      "100%|██████████████████████████████████████████████████████████████████████████████████| 22/22 [00:00<00:00, 86.78it/s]\n"
     ]
    }
   ],
   "source": [
    "url_delhi = []\n",
    "url_del = driver.find_elements(By.XPATH,'//div[@class=\"titlebox hover\"]/h3/a')\n",
    "l= len(url_del)\n",
    "for i in tqdm(range(l)):\n",
    "    url_delhi.append(url_del[i].get_attribute('href'))\n",
    "time.sleep(2)"
   ]
  },
  {
   "cell_type": "code",
   "execution_count": 23,
   "id": "2c2f3d08",
   "metadata": {},
   "outputs": [],
   "source": [
    "car_url_ahm_ban_che_del= []\n",
    "\n",
    "car_url_ahm_ban_che_del = url_ahmedabad+ url_bangalore+ url_chennai+ url_delhi\n",
    "\n",
    "dict = {'URL': car_url_ahm_ban_che_del}  \n",
    "       \n",
    "df = pd.DataFrame(dict) \n",
    "\n",
    "# saving the dataframe \n",
    "df.to_csv('car_url_ahm_ban_che_del.csv') "
   ]
  },
  {
   "cell_type": "code",
   "execution_count": 24,
   "id": "14372e06",
   "metadata": {},
   "outputs": [
    {
     "data": {
      "text/plain": [
       "122"
      ]
     },
     "execution_count": 24,
     "metadata": {},
     "output_type": "execute_result"
    }
   ],
   "source": [
    "len(car_url_ahm_ban_che_del)"
   ]
  },
  {
   "cell_type": "markdown",
   "id": "b536a507",
   "metadata": {},
   "source": [
    "# Used car in Agra:"
   ]
  },
  {
   "cell_type": "code",
   "execution_count": 26,
   "id": "cb460d5a",
   "metadata": {},
   "outputs": [],
   "source": [
    "#First connect to the driver\n",
    "\n",
    "driver=webdriver.Chrome(r\"C:\\Users\\91741\\Downloads\\chromedriver_win32 (1)\\chromedriver.exe\")\n",
    "\n",
    "#open the page in automated chrome browser\n",
    "\n",
    "driver.get('https://www.cardekho.com/used-cars+in+agra')\n",
    "time.sleep(2)"
   ]
  },
  {
   "cell_type": "code",
   "execution_count": 27,
   "id": "9485ab2b",
   "metadata": {},
   "outputs": [
    {
     "name": "stderr",
     "output_type": "stream",
     "text": [
      "100%|████████████████████████████████████████████████████████████████████████████████| 150/150 [05:05<00:00,  2.04s/it]\n"
     ]
    }
   ],
   "source": [
    "from tqdm import tqdm\n",
    "for _ in tqdm(range(0,150)):\n",
    "    time.sleep(1)\n",
    "    driver.execute_script(\"window.scrollBy(0,1000)\",\"\")\n",
    "    time.sleep(1)\n",
    "    driver.execute_script(\"window.scrollBy(0,-350)\")"
   ]
  },
  {
   "cell_type": "code",
   "execution_count": 28,
   "id": "bc862a16",
   "metadata": {},
   "outputs": [
    {
     "name": "stderr",
     "output_type": "stream",
     "text": [
      "100%|██████████████████████████████████████████████████████████████████████████████████| 20/20 [00:00<00:00, 47.08it/s]\n"
     ]
    }
   ],
   "source": [
    "url_agra = []\n",
    "url_ag = driver.find_elements(By.XPATH,'//div[@class=\"titlebox hover\"]/h3/a')\n",
    "l= len(url_ag)\n",
    "for i in tqdm(range(l)):\n",
    "    url_agra.append(url_ag[i].get_attribute('href'))\n",
    "time.sleep(2)"
   ]
  },
  {
   "cell_type": "markdown",
   "id": "5fa05a7c",
   "metadata": {},
   "source": [
    "# Used car in Hyderabad:"
   ]
  },
  {
   "cell_type": "code",
   "execution_count": 29,
   "id": "a536abd4",
   "metadata": {},
   "outputs": [],
   "source": [
    "#First connect to the driver\n",
    "\n",
    "driver=webdriver.Chrome(r\"C:\\Users\\91741\\Downloads\\chromedriver_win32 (1)\\chromedriver.exe\")\n",
    "\n",
    "#open the page in automated chrome browser\n",
    "\n",
    "driver.get('https://www.cardekho.com/used-cars+in+hyderabad')\n",
    "time.sleep(5)"
   ]
  },
  {
   "cell_type": "code",
   "execution_count": 30,
   "id": "0381e300",
   "metadata": {},
   "outputs": [
    {
     "name": "stderr",
     "output_type": "stream",
     "text": [
      "100%|████████████████████████████████████████████████████████████████████████████████| 100/100 [03:22<00:00,  2.03s/it]\n"
     ]
    }
   ],
   "source": [
    "from tqdm import tqdm\n",
    "for _ in tqdm(range(0,100)):\n",
    "    time.sleep(1)\n",
    "    driver.execute_script(\"window.scrollBy(0,1100)\",\"\")\n",
    "    time.sleep(1)\n",
    "    driver.execute_script(\"window.scrollBy(0,-350)\")"
   ]
  },
  {
   "cell_type": "code",
   "execution_count": 32,
   "id": "32490fa7",
   "metadata": {},
   "outputs": [
    {
     "name": "stderr",
     "output_type": "stream",
     "text": [
      "100%|█████████████████████████████████████████████████████████████████████████████████| 20/20 [00:00<00:00, 108.73it/s]\n"
     ]
    }
   ],
   "source": [
    "url_hydrabad = []\n",
    "url_hy = driver.find_elements(By.XPATH,'//div[@class=\"titlebox hover\"]/h3/a')\n",
    "l= len(url_hy)\n",
    "for i in tqdm(range(l)):\n",
    "    url_hydrabad.append(url_hy[i].get_attribute('href'))\n",
    "time.sleep(5)"
   ]
  },
  {
   "cell_type": "markdown",
   "id": "6af53db6",
   "metadata": {},
   "source": [
    "# Used car in Jaipur"
   ]
  },
  {
   "cell_type": "code",
   "execution_count": 33,
   "id": "2f5502f8",
   "metadata": {},
   "outputs": [],
   "source": [
    "#First connect to the driver\n",
    "\n",
    "driver=webdriver.Chrome(r\"C:\\Users\\91741\\Downloads\\chromedriver_win32 (1)\\chromedriver.exe\")\n",
    "\n",
    "#open the page in automated chrome browser\n",
    "\n",
    "driver.get('https://www.cardekho.com/used-cars+in+jaipur')\n",
    "time.sleep(2)"
   ]
  },
  {
   "cell_type": "code",
   "execution_count": 34,
   "id": "3ae8218d",
   "metadata": {},
   "outputs": [
    {
     "name": "stderr",
     "output_type": "stream",
     "text": [
      "100%|████████████████████████████████████████████████████████████████████████████████| 120/120 [05:04<00:00,  2.54s/it]\n"
     ]
    }
   ],
   "source": [
    "from tqdm import tqdm\n",
    "for _ in tqdm(range(0,120)):\n",
    "    time.sleep(1)\n",
    "    driver.execute_script(\"window.scrollBy(0,1000)\",\"\")\n",
    "    time.sleep(1.5)\n",
    "    driver.execute_script(\"window.scrollBy(0,-350)\")"
   ]
  },
  {
   "cell_type": "code",
   "execution_count": 35,
   "id": "2a385336",
   "metadata": {},
   "outputs": [
    {
     "name": "stderr",
     "output_type": "stream",
     "text": [
      "100%|██████████████████████████████████████████████████████████████████████████████████| 20/20 [00:00<00:00, 37.35it/s]\n"
     ]
    }
   ],
   "source": [
    "url_jaipur = []\n",
    "url_jai = driver.find_elements(By.XPATH,'//div[@class=\"titlebox hover\"]/h3/a')\n",
    "l= len(url_jai)\n",
    "for i in tqdm(range(l)):\n",
    "    url_jaipur.append(url_jai[i].get_attribute('href'))\n",
    "time.sleep(2)"
   ]
  },
  {
   "cell_type": "markdown",
   "id": "d487b855",
   "metadata": {},
   "source": [
    "# Used car in Kolkata"
   ]
  },
  {
   "cell_type": "code",
   "execution_count": 36,
   "id": "dcf86648",
   "metadata": {},
   "outputs": [],
   "source": [
    "#First connect to the driver\n",
    "\n",
    "driver=webdriver.Chrome(r\"C:\\Users\\91741\\Downloads\\chromedriver_win32 (1)\\chromedriver.exe\")\n",
    "\n",
    "#open the page in automated chrome browser\n",
    "\n",
    "driver.get('https://www.cardekho.com/used-cars+in+kolkata')\n",
    "time.sleep(2)"
   ]
  },
  {
   "cell_type": "code",
   "execution_count": 37,
   "id": "ee48937c",
   "metadata": {},
   "outputs": [
    {
     "name": "stderr",
     "output_type": "stream",
     "text": [
      "100%|████████████████████████████████████████████████████████████████████████████████| 150/150 [07:35<00:00,  3.04s/it]\n"
     ]
    }
   ],
   "source": [
    "from tqdm import tqdm\n",
    "for _ in tqdm(range(0,150)):\n",
    "    time.sleep(1)\n",
    "    driver.execute_script(\"window.scrollBy(0,1100)\",\"\")\n",
    "    time.sleep(2)\n",
    "    driver.execute_script(\"window.scrollBy(0,-350)\")"
   ]
  },
  {
   "cell_type": "code",
   "execution_count": 38,
   "id": "b2491810",
   "metadata": {},
   "outputs": [
    {
     "name": "stderr",
     "output_type": "stream",
     "text": [
      "100%|██████████████████████████████████████████████████████████████████████████████████| 20/20 [00:00<00:00, 77.41it/s]\n"
     ]
    }
   ],
   "source": [
    "url_kolkata = []\n",
    "url_kol = driver.find_elements(By.XPATH,'//div[@class=\"titlebox hover\"]/h3/a')\n",
    "l= len(url_kol)\n",
    "for i in tqdm(range(l)):\n",
    "    url_kolkata.append(url_kol[i].get_attribute('href'))\n",
    "time.sleep(2)"
   ]
  },
  {
   "cell_type": "markdown",
   "id": "3fecc0a0",
   "metadata": {},
   "source": [
    "# Used car in Mumbai"
   ]
  },
  {
   "cell_type": "code",
   "execution_count": 39,
   "id": "b3b5139c",
   "metadata": {},
   "outputs": [],
   "source": [
    "#First connect to the driver\n",
    "\n",
    "driver=webdriver.Chrome(r\"C:\\Users\\91741\\Downloads\\chromedriver_win32 (1)\\chromedriver.exe\")\n",
    "\n",
    "#open the page in automated chrome browser\n",
    "\n",
    "driver.get('https://www.cardekho.com/used-cars+in+mumbai')\n",
    "time.sleep(3)"
   ]
  },
  {
   "cell_type": "code",
   "execution_count": 40,
   "id": "129fbd54",
   "metadata": {},
   "outputs": [
    {
     "name": "stderr",
     "output_type": "stream",
     "text": [
      "100%|████████████████████████████████████████████████████████████████████████████████| 200/200 [05:07<00:00,  1.54s/it]\n"
     ]
    }
   ],
   "source": [
    "from tqdm import tqdm\n",
    "for _ in tqdm(range(0,200)):\n",
    "    time.sleep(0.5)\n",
    "    driver.execute_script(\"window.scrollBy(0,1200)\",\"\")\n",
    "    time.sleep(1)\n",
    "    driver.execute_script(\"window.scrollBy(0,-350)\")"
   ]
  },
  {
   "cell_type": "code",
   "execution_count": 41,
   "id": "ab312ad4",
   "metadata": {},
   "outputs": [
    {
     "name": "stderr",
     "output_type": "stream",
     "text": [
      "100%|██████████████████████████████████████████████████████████████████████████████████| 20/20 [00:00<00:00, 55.25it/s]\n"
     ]
    }
   ],
   "source": [
    "url_mumbai = []\n",
    "url_mum = driver.find_elements(By.XPATH,'//div[@class=\"titlebox hover\"]/h3/a')\n",
    "l= len(url_mum)\n",
    "for i in tqdm(range(l)):\n",
    "    url_mumbai.append(url_mum[i].get_attribute('href'))\n",
    "time.sleep(2)\n"
   ]
  },
  {
   "cell_type": "markdown",
   "id": "c32003d0",
   "metadata": {},
   "source": [
    "# Used car in Pune"
   ]
  },
  {
   "cell_type": "code",
   "execution_count": 42,
   "id": "1c037705",
   "metadata": {},
   "outputs": [],
   "source": [
    "#First connect to the driver\n",
    "\n",
    "driver=webdriver.Chrome(r\"C:\\Users\\91741\\Downloads\\chromedriver_win32 (1)\\chromedriver.exe\")\n",
    "\n",
    "#open the page in automated chrome browser\n",
    "\n",
    "driver.get('https://www.cardekho.com/used-cars+in+pune')\n",
    "time.sleep(3)"
   ]
  },
  {
   "cell_type": "code",
   "execution_count": 43,
   "id": "6ea4eb4d",
   "metadata": {},
   "outputs": [
    {
     "name": "stderr",
     "output_type": "stream",
     "text": [
      "100%|████████████████████████████████████████████████████████████████████████████████| 150/150 [03:49<00:00,  1.53s/it]\n"
     ]
    }
   ],
   "source": [
    "from tqdm import tqdm\n",
    "for _ in tqdm(range(0,150)):\n",
    "    time.sleep(0.5)\n",
    "    driver.execute_script(\"window.scrollBy(0,1200)\",\"\")\n",
    "    time.sleep(1)\n",
    "    driver.execute_script(\"window.scrollBy(0,-350)\")"
   ]
  },
  {
   "cell_type": "code",
   "execution_count": 44,
   "id": "142157f6",
   "metadata": {},
   "outputs": [
    {
     "name": "stderr",
     "output_type": "stream",
     "text": [
      "100%|██████████████████████████████████████████████████████████████████████████████████| 20/20 [00:00<00:00, 76.31it/s]\n"
     ]
    }
   ],
   "source": [
    "url_pune = []\n",
    "url_p = driver.find_elements(By.XPATH,'//div[@class=\"titlebox hover\"]/h3/a')\n",
    "l= len(url_p)\n",
    "for i in tqdm(range(l)):\n",
    "    url_pune.append(url_p[i].get_attribute('href'))\n",
    "time.sleep(5)"
   ]
  },
  {
   "cell_type": "markdown",
   "id": "878b2650",
   "metadata": {},
   "source": [
    "# Used car in Lucknow"
   ]
  },
  {
   "cell_type": "code",
   "execution_count": 45,
   "id": "e6e526a2",
   "metadata": {},
   "outputs": [],
   "source": [
    "#First connect to the driver\n",
    "\n",
    "driver=webdriver.Chrome(r\"C:\\Users\\91741\\Downloads\\chromedriver_win32 (1)\\chromedriver.exe\")\n",
    "\n",
    "#open the page in automated chrome browser\n",
    "\n",
    "driver.get('https://www.cardekho.com/used-cars+in+lucknow')\n",
    "time.sleep(3)"
   ]
  },
  {
   "cell_type": "code",
   "execution_count": 46,
   "id": "abc98b97",
   "metadata": {},
   "outputs": [
    {
     "name": "stderr",
     "output_type": "stream",
     "text": [
      "100%|████████████████████████████████████████████████████████████████████████████████| 120/120 [03:04<00:00,  1.54s/it]\n"
     ]
    }
   ],
   "source": [
    "from tqdm import tqdm\n",
    "for _ in tqdm(range(0,120)):\n",
    "    time.sleep(0.5)\n",
    "    driver.execute_script(\"window.scrollBy(0,1200)\",\"\")\n",
    "    time.sleep(1)\n",
    "    driver.execute_script(\"window.scrollBy(0,-350)\")"
   ]
  },
  {
   "cell_type": "code",
   "execution_count": 47,
   "id": "d707bbf4",
   "metadata": {},
   "outputs": [
    {
     "name": "stderr",
     "output_type": "stream",
     "text": [
      "100%|██████████████████████████████████████████████████████████████████████████████████| 20/20 [00:00<00:00, 81.05it/s]\n"
     ]
    }
   ],
   "source": [
    "url_lucknow = []\n",
    "url_luc = driver.find_elements(By.XPATH,'//div[@class=\"titlebox hover\"]/h3/a')\n",
    "l= len(url_luc)\n",
    "for i in tqdm(range(l)):\n",
    "    url_lucknow.append(url_luc[i].get_attribute('href'))\n",
    "time.sleep(2)"
   ]
  },
  {
   "cell_type": "code",
   "execution_count": 48,
   "id": "a641421a",
   "metadata": {},
   "outputs": [],
   "source": [
    "car_url_agra_hyd_jai_kol_mum_pune_luck= []\n",
    "\n",
    "car_url_agra_hyd_jai_kol_mum_pune_luck = url_agra+ url_hydrabad + url_jaipur+ url_kolkata+ url_mumbai+ url_pune + url_lucknow\n",
    "\n",
    "dict = {'URL': car_url_agra_hyd_jai_kol_mum_pune_luck}  \n",
    "       \n",
    "df = pd.DataFrame(dict) \n",
    "\n",
    "# saving the dataframe \n",
    "df.to_csv('car_url_agra_hyd_jai_kol_mum_pune_luck.csv') "
   ]
  },
  {
   "cell_type": "code",
   "execution_count": 49,
   "id": "331f5e9e",
   "metadata": {},
   "outputs": [
    {
     "data": {
      "text/plain": [
       "140"
      ]
     },
     "execution_count": 49,
     "metadata": {},
     "output_type": "execute_result"
    }
   ],
   "source": [
    "len(car_url_agra_hyd_jai_kol_mum_pune_luck)"
   ]
  },
  {
   "cell_type": "markdown",
   "id": "a85314ec",
   "metadata": {},
   "source": [
    "# Used car in Chandigarh"
   ]
  },
  {
   "cell_type": "code",
   "execution_count": 50,
   "id": "00e7cc25",
   "metadata": {},
   "outputs": [],
   "source": [
    "#First connect to the driver\n",
    "\n",
    "driver=webdriver.Chrome(r\"C:\\Users\\91741\\Downloads\\chromedriver_win32 (1)\\chromedriver.exe\")\n",
    "\n",
    "#open the page in automated chrome browser\n",
    "\n",
    "driver.get('https://www.cardekho.com/used-cars+in+chandigarh')\n",
    "time.sleep(3)"
   ]
  },
  {
   "cell_type": "code",
   "execution_count": 51,
   "id": "48546f18",
   "metadata": {},
   "outputs": [
    {
     "name": "stderr",
     "output_type": "stream",
     "text": [
      "100%|██████████████████████████████████████████████████████████████████████████████████| 80/80 [02:05<00:00,  1.57s/it]\n"
     ]
    }
   ],
   "source": [
    "from tqdm import tqdm\n",
    "for _ in tqdm(range(0,80)):\n",
    "    time.sleep(0.5)\n",
    "    driver.execute_script(\"window.scrollBy(0,1200)\",\"\")\n",
    "    time.sleep(1)\n",
    "    driver.execute_script(\"window.scrollBy(0,-400)\")"
   ]
  },
  {
   "cell_type": "code",
   "execution_count": 52,
   "id": "39e2eb9d",
   "metadata": {},
   "outputs": [
    {
     "name": "stderr",
     "output_type": "stream",
     "text": [
      "100%|█████████████████████████████████████████████████████████████████████████████████| 22/22 [00:00<00:00, 137.39it/s]\n"
     ]
    }
   ],
   "source": [
    "url_chandigarh = []\n",
    "url_ch = driver.find_elements(By.XPATH,'//div[@class=\"titlebox hover\"]/h3/a')\n",
    "l= len(url_ch)\n",
    "for i in tqdm(range(l)):\n",
    "    url_chandigarh.append(url_ch[i].get_attribute('href'))\n",
    "time.sleep(2)"
   ]
  },
  {
   "cell_type": "markdown",
   "id": "f530a81d",
   "metadata": {},
   "source": [
    "# Used car in Gurgaon"
   ]
  },
  {
   "cell_type": "code",
   "execution_count": 53,
   "id": "f9b30340",
   "metadata": {},
   "outputs": [],
   "source": [
    "#First connect to the driver\n",
    "\n",
    "driver=webdriver.Chrome(r\"C:\\Users\\91741\\Downloads\\chromedriver_win32 (1)\\chromedriver.exe\")\n",
    "\n",
    "#open the page in automated chrome browser\n",
    "\n",
    "driver.get('https://www.cardekho.com/used-cars+in+gurgaon')\n",
    "time.sleep(3)"
   ]
  },
  {
   "cell_type": "code",
   "execution_count": 54,
   "id": "c2affc30",
   "metadata": {},
   "outputs": [
    {
     "name": "stderr",
     "output_type": "stream",
     "text": [
      "100%|████████████████████████████████████████████████████████████████████████████████| 180/180 [06:04<00:00,  2.03s/it]\n"
     ]
    }
   ],
   "source": [
    "from tqdm import tqdm\n",
    "for _ in tqdm(range(0,180)):\n",
    "    time.sleep(1)\n",
    "    driver.execute_script(\"window.scrollBy(0,1200)\",\"\")\n",
    "    time.sleep(1)\n",
    "    driver.execute_script(\"window.scrollBy(0,-400)\")"
   ]
  },
  {
   "cell_type": "code",
   "execution_count": 55,
   "id": "5005814f",
   "metadata": {},
   "outputs": [
    {
     "name": "stderr",
     "output_type": "stream",
     "text": [
      "100%|█████████████████████████████████████████████████████████████████████████████████| 20/20 [00:00<00:00, 143.71it/s]\n"
     ]
    }
   ],
   "source": [
    "url_gurgaon = []\n",
    "url_gur = driver.find_elements(By.XPATH,'//div[@class=\"titlebox hover\"]/h3/a')\n",
    "l= len(url_gur)\n",
    "for i in tqdm(range(l)):\n",
    "    url_gurgaon.append(url_gur[i].get_attribute('href'))\n",
    "time.sleep(2)"
   ]
  },
  {
   "cell_type": "code",
   "execution_count": 56,
   "id": "dd66b3cf",
   "metadata": {},
   "outputs": [],
   "source": [
    "car_url_chand_gur= []\n",
    "\n",
    "car_url_chand_gur = url_chandigarh+ url_gurgaon\n",
    "\n",
    "dict = {'URL': car_url_chand_gur}  \n",
    "       \n",
    "df = pd.DataFrame(dict) \n",
    "\n",
    "# saving the dataframe \n",
    "df.to_csv('car_url_chand_gur.csv') "
   ]
  },
  {
   "cell_type": "code",
   "execution_count": 57,
   "id": "e09371b0",
   "metadata": {},
   "outputs": [
    {
     "data": {
      "text/plain": [
       "42"
      ]
     },
     "execution_count": 57,
     "metadata": {},
     "output_type": "execute_result"
    }
   ],
   "source": [
    "len(car_url_chand_gur)"
   ]
  },
  {
   "cell_type": "markdown",
   "id": "f81163fc",
   "metadata": {},
   "source": [
    "# Scraping for further details"
   ]
  },
  {
   "cell_type": "code",
   "execution_count": 58,
   "id": "91803902",
   "metadata": {},
   "outputs": [],
   "source": [
    "df1 = pd.read_csv(r'car_url_ahm_ban_che_del.csv')\n",
    "df2=  pd.read_csv(r'car_url_agra_hyd_jai_kol_mum_pune_luck.csv')\n",
    "df3=  pd.read_csv(r'car_url_chand_gur.csv')"
   ]
  },
  {
   "cell_type": "code",
   "execution_count": 59,
   "id": "1ac967cb",
   "metadata": {},
   "outputs": [
    {
     "data": {
      "text/html": [
       "<div>\n",
       "<style scoped>\n",
       "    .dataframe tbody tr th:only-of-type {\n",
       "        vertical-align: middle;\n",
       "    }\n",
       "\n",
       "    .dataframe tbody tr th {\n",
       "        vertical-align: top;\n",
       "    }\n",
       "\n",
       "    .dataframe thead th {\n",
       "        text-align: right;\n",
       "    }\n",
       "</style>\n",
       "<table border=\"1\" class=\"dataframe\">\n",
       "  <thead>\n",
       "    <tr style=\"text-align: right;\">\n",
       "      <th></th>\n",
       "      <th>Unnamed: 0</th>\n",
       "      <th>URL</th>\n",
       "    </tr>\n",
       "  </thead>\n",
       "  <tbody>\n",
       "    <tr>\n",
       "      <th>0</th>\n",
       "      <td>0</td>\n",
       "      <td>https://www.cardekho.com/buy-used-car-details/...</td>\n",
       "    </tr>\n",
       "    <tr>\n",
       "      <th>1</th>\n",
       "      <td>1</td>\n",
       "      <td>https://www.cardekho.com/buy-used-car-details/...</td>\n",
       "    </tr>\n",
       "    <tr>\n",
       "      <th>2</th>\n",
       "      <td>2</td>\n",
       "      <td>https://www.cardekho.com/buy-used-car-details/...</td>\n",
       "    </tr>\n",
       "    <tr>\n",
       "      <th>3</th>\n",
       "      <td>3</td>\n",
       "      <td>https://www.cardekho.com/buy-used-car-details/...</td>\n",
       "    </tr>\n",
       "    <tr>\n",
       "      <th>4</th>\n",
       "      <td>4</td>\n",
       "      <td>https://www.cardekho.com/buy-used-car-details/...</td>\n",
       "    </tr>\n",
       "  </tbody>\n",
       "</table>\n",
       "</div>"
      ],
      "text/plain": [
       "   Unnamed: 0                                                URL\n",
       "0           0  https://www.cardekho.com/buy-used-car-details/...\n",
       "1           1  https://www.cardekho.com/buy-used-car-details/...\n",
       "2           2  https://www.cardekho.com/buy-used-car-details/...\n",
       "3           3  https://www.cardekho.com/buy-used-car-details/...\n",
       "4           4  https://www.cardekho.com/buy-used-car-details/..."
      ]
     },
     "execution_count": 59,
     "metadata": {},
     "output_type": "execute_result"
    }
   ],
   "source": [
    "final_car_url = pd.concat([df1, df2, df3])\n",
    "final_car_url. head()"
   ]
  },
  {
   "cell_type": "code",
   "execution_count": 60,
   "id": "2887b803",
   "metadata": {},
   "outputs": [],
   "source": [
    "final_url = pd.DataFrame({})\n",
    "final_url['URLs'] = final_car_url['URL']\n",
    "final_url.to_excel('Final_Car_URL.xlsx', index = False)"
   ]
  },
  {
   "cell_type": "markdown",
   "id": "a680c2df",
   "metadata": {},
   "source": [
    "# Final Scraping"
   ]
  },
  {
   "cell_type": "code",
   "execution_count": 61,
   "id": "eca8354b",
   "metadata": {},
   "outputs": [],
   "source": [
    "df = pd.read_excel('Final_Car_URL.xlsx')"
   ]
  },
  {
   "cell_type": "code",
   "execution_count": 62,
   "id": "5476d10e",
   "metadata": {},
   "outputs": [
    {
     "data": {
      "text/plain": [
       "(304, 1)"
      ]
     },
     "execution_count": 62,
     "metadata": {},
     "output_type": "execute_result"
    }
   ],
   "source": [
    "df.shape"
   ]
  },
  {
   "cell_type": "code",
   "execution_count": 63,
   "id": "843de616",
   "metadata": {},
   "outputs": [],
   "source": [
    "# Making Empty lists\n",
    "\n",
    "Model = []\n",
    "Manufactring_year =[]\n",
    "KMs_driven = []\n",
    "Fuel_Type = []\n",
    "Ownership= []\n",
    "Price = []\n",
    "Transmission = []\n",
    "Insurance_Validity = []\n",
    "Seats = []\n",
    "RTO = []\n",
    "Engine_displacement = []\n",
    "Milage = []\n",
    "Max_power = []\n",
    "Torque = []\n",
    "\n",
    "Color = []\n",
    "Max_Torque = []\n",
    "Engine_Type = []\n",
    "Displacement=[]\n",
    "No_of_cylinder = []\n",
    "Turbo_charger = []\n",
    "Length = []\n",
    "Width =[]\n",
    "Height = []\n",
    "Wheel_Base = []\n",
    "Front_Tread = []\n",
    "Kerb_Weight = []\n",
    "Gear_Box =[]\n",
    "Front_Brake_Type = []\n",
    "Rear_Brake_Type = []\n",
    "Steering_Type =[]\n",
    "Tyre_Type = []"
   ]
  },
  {
   "cell_type": "code",
   "execution_count": 68,
   "id": "179f5491",
   "metadata": {},
   "outputs": [],
   "source": [
    "driver=webdriver.Chrome(r\"C:\\Users\\91741\\Downloads\\chromedriver_win32 (1)\\chromedriver.exe\")"
   ]
  },
  {
   "cell_type": "code",
   "execution_count": 69,
   "id": "5d6ab0c3",
   "metadata": {},
   "outputs": [
    {
     "name": "stderr",
     "output_type": "stream",
     "text": [
      "100%|████████████████████████████████████████████████████████████████████████████████| 100/100 [40:01<00:00, 24.01s/it]\n"
     ]
    }
   ],
   "source": [
    "from tqdm import tqdm\n",
    "for i in tqdm(df['URLs'][0:100]):\n",
    "    driver.get(i)\n",
    "    time.sleep(5)\n",
    "    \n",
    "    # Extracting Car Model via xpath\n",
    "    try :\n",
    "        model = driver.find_elements(By.XPATH,'//div[@id=\"vdp-main\"]/div/div/div[1]/div[2]/div[1]/div/div[1]')\n",
    "        Model.append(model[0].text[5:])\n",
    "    except Exception:\n",
    "        pass\n",
    "        \n",
    "        \n",
    "    # Extracting Car Manufactring_year via xpath\n",
    "    try :\n",
    "        yr = driver.find_elements(By.XPATH,'//ul[@class=\"gsc_row detailsList\"]/li[10]/div/div/span')\n",
    "        Manufactring_year.append(yr[0].text)\n",
    "    except:\n",
    "        Manufactring_year.append('--')\n",
    "            \n",
    "    # Extracting Car KMs_driven via xpath\n",
    "    try :\n",
    "        km = driver.find_elements(By.XPATH,'//ul[@class=\"gsc_row detailsList\"]/li[5]/div/div/span')\n",
    "        KMs_driven.append(km[0].text. replace(' Kms', ''))\n",
    "    except:\n",
    "        KMs_driven.append('--')\n",
    "            \n",
    "    # Extracting Car Fuel_Type via xpath\n",
    "    try :\n",
    "        fuel = driver.find_elements(By.XPATH,'//ul[@class=\"gsc_row detailsList\"]/li[3]/div/div/span')\n",
    "        Fuel_Type.append(fuel[0].text)\n",
    "    except:\n",
    "        Fuel_Type.append('--')\n",
    "            \n",
    "    # Extracting Car Ownership via xpath\n",
    "    try :\n",
    "        own = driver.find_elements(By.XPATH,'//ul[@class=\"gsc_row detailsList\"]/li[7]/div/div/span')\n",
    "        Ownership.append(own[0].text)\n",
    "    except:\n",
    "        Ownership.append('--')\n",
    "        \n",
    "    # Extracting Car price via xpath\n",
    "    try :\n",
    "        p = driver.find_elements(By.XPATH,'//*[@id=\"vdp-main\"]/div/div/div[1]/div[2]/div[1]/div/div[3]/span')\n",
    "        Price.append(p[0].text. replace('₹ ', ''))\n",
    "    except:\n",
    "        Price.append('--')\n",
    "        \n",
    "    # Extracting Car Transmission via xpath\n",
    "    try :\n",
    "        trans = driver.find_elements(By.XPATH,'//ul[@class=\"gsc_row detailsList\"]/li[9]/div/div/span')\n",
    "        Transmission.append(trans[0].text)\n",
    "    except:\n",
    "        Transmission.append('--')\n",
    "        \n",
    "    # Extracting Car Insurance_Validity via xpath\n",
    "    try :\n",
    "        val = driver.find_elements(By.XPATH,'//*[@id=\"vdpCard-carOverview\"]/ul/li[2]/div/div/span')\n",
    "        Insurance_Validity.append(val[0].text)\n",
    "    except:\n",
    "        Insurance_Validity.append('--')\n",
    "        \n",
    "    # Extracting Car Seats via xpath\n",
    "    try :\n",
    "        seat = driver.find_elements(By.XPATH,'//*[@id=\"vdpCard-carOverview\"]/ul/li[4]/div/div/span')\n",
    "        Seats.append(seat[0].text.replace(\" Seats\", \"\"))\n",
    "    except:\n",
    "        Seats.append('--')\n",
    "        \n",
    "    # Extracting Car RTO via xpath\n",
    "    try :\n",
    "        rto = driver.find_elements(By.XPATH,'//*[@id=\"vdpCard-carOverview\"]/ul/li[6]/div/div/span')\n",
    "        RTO.append(rto[0].text)\n",
    "    except:\n",
    "        RTO.append('--')\n",
    "        \n",
    "    # Extracting Car Engine_displacement via xpath\n",
    "    try :\n",
    "        dist = driver.find_elements(By.XPATH,'//*[@id=\"vdpCard-carOverview\"]/ul/li[8]/div/div/span')\n",
    "        Engine_displacement.append(dist[0].text.replace(' cc', ''))\n",
    "    except:\n",
    "        Engine_displacement.append('--')\n",
    "        \n",
    "    # Extracting Car Milage via xpath\n",
    "    try :\n",
    "        mil = driver.find_elements(By.XPATH,'//*[@id=\"vdpCard-carFeatures\"]/ul/li[1]/div/div/span')\n",
    "        Milage.append(mil[1].text. replace(' kmpl', ''))\n",
    "    except:\n",
    "        Milage.append('--')\n",
    "        \n",
    "    # Extracting Car Max_power via xpath\n",
    "    try :\n",
    "        maxp = driver.find_elements(By.XPATH,'//*[@id=\"vdpCard-carFeatures\"]/ul/li[3]/div/div/span')\n",
    "        Max_power.append(maxp[1].text.replace('bhp', ''))\n",
    "    except:\n",
    "        Max_power.append('--')\n",
    "        \n",
    "    # Extracting Car Torque via xpath\n",
    "    try :\n",
    "        tor = driver.find_elements(By.XPATH,'//*[@id=\"vdpCard-carFeatures\"]/ul/li[4]/div/div/span')\n",
    "        Torque.append(tor[1].text.replace('Nm',''))\n",
    "    except:\n",
    "        Torque.append('--')        \n",
    "      \n",
    "        \n",
    "        \n",
    "    \n",
    "    ## Clicking on View all specifications (Engine and transmission) ##\n",
    "    try:\n",
    "        view_more = driver.find_elements(By.XPATH,'//*[@id=\"vdpCard-carFeatures\"]/div[2]/div[1]')\n",
    "        view_more[1].click()\n",
    "        time.sleep(1)\n",
    "        c= driver.find_elements(By.XPATH,'//*[@id=\"vdpCard-carFeatures\"]/div[2]/div[1]/div/h3')\n",
    "        c[0].click()\n",
    "        time.sleep(5)\n",
    "    except:\n",
    "        pass\n",
    "    \n",
    "    # Extracting Car Color via xpath\n",
    "    try :\n",
    "        col = driver.find_elements(By.XPATH,'//*[@id=\"vdpCard-carFeatures\"]/div[2]/div[1]/div/div/ul/li[1]/div/div/span')\n",
    "        Color.append(col[0].text)\n",
    "    except:\n",
    "        Color.append('--')\n",
    "        \n",
    "        # Extracting Car Max_Torque via xpath\n",
    "    try :\n",
    "        maxt = driver.find_elements(By.XPATH,'//*[@id=\"vdpCard-carFeatures\"]/div[2]/div[1]/div/div/ul/li[5]/div/div/span')\n",
    "        Max_Torque.append(maxt[0].text)\n",
    "    except:\n",
    "        Max_Torque.append('--')\n",
    "\n",
    "    # Extracting Car Engine_Type via xpath\n",
    "    try :\n",
    "        engtype = driver.find_elements(By.XPATH,'//*[@id=\"vdpCard-carFeatures\"]/div[2]/div[1]/div/div/ul/li[2]/div/div/span')\n",
    "        Engine_Type.append(engtype[0].text)\n",
    "    except:\n",
    "        Engine_Type.append('--')\n",
    "        \n",
    "    # Extracting Car No_of_cylinder via xpath\n",
    "    try :\n",
    "        cyn_no = driver.find_elements(By.XPATH,'//*[@id=\"vdpCard-carFeatures\"]/div[2]/div[1]/div/div/ul/li[6]/div/div/span')\n",
    "        No_of_cylinder.append(cyn_no[0].text)\n",
    "    except:\n",
    "        No_of_cylinder.append('--')\n",
    "        \n",
    "    # Extracting Car Turbo_charger via xpath\n",
    "    try :\n",
    "        turbo = driver.find_elements(By.XPATH,'//*[@id=\"vdpCard-carFeatures\"]/div[2]/div[1]/div/div/ul/li[10]/div/div/span')\n",
    "        Turbo_charger.append(turbo[0].text)\n",
    "    except:\n",
    "        Turbo_charger.append('--')\n",
    "        \n",
    "    # Extracting Car Displacement via xpath\n",
    "    try :\n",
    "        dis = driver.find_elements(By.XPATH,'//*[@id=\"vdpCard-carFeatures\"]/div[2]/div[1]/div/div/ul/li[3]/div/div/span')\n",
    "        Displacement.append(dis[0].text)\n",
    "    except:\n",
    "        Displacement.append('--')\n",
    "        \n",
    "        \n",
    "        \n",
    "        \n",
    "    ## Clicking on View all specifications (Dimention and capacity)##\n",
    "    try:\n",
    "        view_more = driver.find_elements(By.XPATH,'//*[@id=\"vdpCard-carFeatures\"]/div[2]/div[1]')\n",
    "        view_more[1].click()\n",
    "        time.sleep(1)\n",
    "        c= driver.find_elements(By.XPATH,'//*[@id=\"vdpCard-carFeatures\"]/div[2]/div[2]/div/h3')\n",
    "        c[0].click()\n",
    "        time.sleep(3)\n",
    "    except:\n",
    "        pass\n",
    "    \n",
    "    # Extracting Car Length via xpath\n",
    "    try :\n",
    "        leng = driver.find_elements(By.XPATH,'//*[@id=\"vdpCard-carFeatures\"]/div[2]/div[2]/div/div/ul/li[1]/div/div/span')\n",
    "        Length.append(leng[0].text)\n",
    "    except:\n",
    "        Length.append('--')\n",
    "        \n",
    "    # Extracting Car Width via xpath\n",
    "    try :\n",
    "        wid = driver.find_elements(By.XPATH,'//*[@id=\"vdpCard-carFeatures\"]/div[2]/div[2]/div/div/ul/li[2]/div/div/span')\n",
    "        Width.append(wid[0].text.replace('mm', ''))\n",
    "    except:\n",
    "        Width.append('--')\n",
    "        \n",
    "    # Extracting Car Height via xpath\n",
    "    try :\n",
    "        hei = driver.find_elements(By.XPATH,'//*[@id=\"vdpCard-carFeatures\"]/div[2]/div[2]/div/div/ul/li[3]/div/div/span')\n",
    "        Height.append(hei[0].text.replace('mm', ''))\n",
    "    except:\n",
    "        Height.append('--')\n",
    "        \n",
    "    # Extracting Car Wheel_Base via xpath\n",
    "    try :\n",
    "        wheel = driver.find_elements(By.XPATH,'//*[@id=\"vdpCard-carFeatures\"]/div[2]/div[2]/div/div/ul/li[4]/div/div/span')\n",
    "        Wheel_Base.append(wheel[0].text.replace('mm', ''))\n",
    "    except:\n",
    "        Wheel_Base.append('--')\n",
    "        \n",
    "    # Extracting Car Front_Tread via xpath\n",
    "    try :\n",
    "        front = driver.find_elements(By.XPATH,'//*[@id=\"vdpCard-carFeatures\"]/div[2]/div[2]/div/div/ul/li[5]/div/div/span')\n",
    "        Front_Tread.append(front[0].text.replace('mm', ''))\n",
    "    except:\n",
    "        Front_Tread.append('--')\n",
    "        \n",
    "    # Extracting Car Kerb_Weight via xpath\n",
    "    try :\n",
    "        kerb = driver.find_elements(By.XPATH,'//*[@id=\"vdpCard-carFeatures\"]/div[2]/div[2]/div/div/ul/li[7]/div/div/span')\n",
    "        Kerb_Weight.append(kerb[0].text.replace('kg', '').replace('Kg', ''))\n",
    "    except:\n",
    "        Kerb_Weight.append('--')\n",
    "        \n",
    "        \n",
    "        \n",
    "\n",
    "    ## Clicking on View all specifications (Miscellaneous)##\n",
    "    try:\n",
    "        view_more = driver.find_elements(By.XPATH,'//*[@id=\"vdpCard-carFeatures\"]/div[2]/div[1]')\n",
    "        view_more[1].click()\n",
    "        time.sleep(1)\n",
    "        c= driver.find_elements(By.XPATH,'//*[@id=\"vdpCard-carFeatures\"]/div[2]/div[3]/div/h3')\n",
    "        c[0].click()\n",
    "        time.sleep(6)\n",
    "    except:\n",
    "        pass\n",
    "    \n",
    "    # Extracting Car Gear_Box via xpath\n",
    "    try :\n",
    "        gear = driver.find_elements(By.XPATH,'//*[@id=\"vdpCard-carFeatures\"]/div[2]/div[3]/div/div/ul/li[1]/div/div/span')\n",
    "        Gear_Box.append(gear[0].text.replace('Speed', ''))\n",
    "    except:\n",
    "        Gear_Box.append('--')\n",
    "        \n",
    "    # Extracting Car Front_Brake_Type via xpath\n",
    "    try :\n",
    "        breakf = driver.find_elements(By.XPATH,'//*[@id=\"vdpCard-carFeatures\"]/div[2]/div[3]/div/div/ul/li[6]/div/div/span')\n",
    "        Front_Brake_Type.append(breakf[0].text)\n",
    "    except:\n",
    "        Front_Brake_Type.append('--')     \n",
    "    \n",
    "    # Extracting Car Rear_Brake_Type via xpath\n",
    "    try :\n",
    "        breakr = driver.find_elements(By.XPATH,'//*[@id=\"vdpCard-carFeatures\"]/div[2]/div[3]/div/div/ul/li[7]/div/div/span')\n",
    "        Rear_Brake_Type.append(breakr[0].text)\n",
    "    except:\n",
    "        Rear_Brake_Type.append('--')\n",
    "        \n",
    "    # Extracting Car Steering_Type via xpath\n",
    "    try :\n",
    "        ste = driver.find_elements(By.XPATH,'//*[@id=\"vdpCard-carFeatures\"]/div[2]/div[3]/div/div/ul/li[4]/div/div/span')\n",
    "        Steering_Type.append(ste[0].text)\n",
    "    except:\n",
    "        Steering_Type.append('--')\n",
    "        \n",
    "    # Extracting Car Tyre_Type via xpath\n",
    "    try :\n",
    "        tyre = driver.find_elements(By.XPATH,'//*[@id=\"vdpCard-carFeatures\"]/div[2]/div[3]/div/div/ul/li[10]/div/div/span')\n",
    "        Tyre_Type.append(tyre[0].text)\n",
    "    except:\n",
    "        Tyre_Type.append('--')"
   ]
  },
  {
   "cell_type": "code",
   "execution_count": 70,
   "id": "39a97c35",
   "metadata": {},
   "outputs": [
    {
     "data": {
      "text/html": [
       "<div>\n",
       "<style scoped>\n",
       "    .dataframe tbody tr th:only-of-type {\n",
       "        vertical-align: middle;\n",
       "    }\n",
       "\n",
       "    .dataframe tbody tr th {\n",
       "        vertical-align: top;\n",
       "    }\n",
       "\n",
       "    .dataframe thead th {\n",
       "        text-align: right;\n",
       "    }\n",
       "</style>\n",
       "<table border=\"1\" class=\"dataframe\">\n",
       "  <thead>\n",
       "    <tr style=\"text-align: right;\">\n",
       "      <th></th>\n",
       "      <th>Model</th>\n",
       "      <th>Manufactring_year</th>\n",
       "      <th>KMs_driven</th>\n",
       "      <th>Fuel_Type</th>\n",
       "      <th>Ownership</th>\n",
       "      <th>Transmission</th>\n",
       "      <th>Insurance_Validity</th>\n",
       "      <th>Seats</th>\n",
       "      <th>RTO</th>\n",
       "      <th>Engine_displacement</th>\n",
       "      <th>Milage</th>\n",
       "      <th>Max_power</th>\n",
       "      <th>Torque</th>\n",
       "      <th>Color</th>\n",
       "      <th>Max_Torque</th>\n",
       "      <th>Engine_Type</th>\n",
       "      <th>Displacement</th>\n",
       "      <th>No_of_cylinder</th>\n",
       "      <th>Turbo_charger</th>\n",
       "      <th>Length</th>\n",
       "      <th>Width</th>\n",
       "      <th>Height</th>\n",
       "      <th>Wheel_Base</th>\n",
       "      <th>Front_Tread</th>\n",
       "      <th>Kerb_Weight</th>\n",
       "      <th>Gear_Box</th>\n",
       "      <th>Front_Brake_Type</th>\n",
       "      <th>Rear_Brake_Type</th>\n",
       "      <th>Steering_Type</th>\n",
       "      <th>Tyre_Type</th>\n",
       "      <th>Price</th>\n",
       "    </tr>\n",
       "  </thead>\n",
       "  <tbody>\n",
       "    <tr>\n",
       "      <th>25</th>\n",
       "      <td>Jeep Compass 2.0 Limited</td>\n",
       "      <td>2017</td>\n",
       "      <td>48,872</td>\n",
       "      <td>Petrol</td>\n",
       "      <td>First Owner</td>\n",
       "      <td>Manual</td>\n",
       "      <td>Third Party insurance</td>\n",
       "      <td>5</td>\n",
       "      <td>GJ01</td>\n",
       "      <td>799</td>\n",
       "      <td>25.17</td>\n",
       "      <td>53.3</td>\n",
       "      <td>72</td>\n",
       "      <td>ICE Cool White</td>\n",
       "      <td>72Nm@4386rpm</td>\n",
       "      <td>Petrol Engine</td>\n",
       "      <td>799</td>\n",
       "      <td>3</td>\n",
       "      <td>No</td>\n",
       "      <td>3679mm</td>\n",
       "      <td>1579</td>\n",
       "      <td>1478</td>\n",
       "      <td>2422</td>\n",
       "      <td>--</td>\n",
       "      <td>--</td>\n",
       "      <td>5</td>\n",
       "      <td>Disc</td>\n",
       "      <td>Drum</td>\n",
       "      <td>Power</td>\n",
       "      <td>Tubeless,Radial</td>\n",
       "      <td>3.11 Lakh</td>\n",
       "    </tr>\n",
       "    <tr>\n",
       "      <th>72</th>\n",
       "      <td>Hyundai Creta 1.6 VTVT SX Plus</td>\n",
       "      <td>2021</td>\n",
       "      <td>27,000</td>\n",
       "      <td>Diesel</td>\n",
       "      <td>First Owner</td>\n",
       "      <td>Automatic</td>\n",
       "      <td>Comprehensive</td>\n",
       "      <td>7</td>\n",
       "      <td>KA03</td>\n",
       "      <td>2755</td>\n",
       "      <td>2755 CC</td>\n",
       "      <td>500Nm</td>\n",
       "      <td>18</td>\n",
       "      <td>White</td>\n",
       "      <td>500Nm@1600-2800rpm</td>\n",
       "      <td>2.8 L Diesel Engine</td>\n",
       "      <td>2755</td>\n",
       "      <td>4</td>\n",
       "      <td>Yes</td>\n",
       "      <td>4795mm</td>\n",
       "      <td>1855</td>\n",
       "      <td>1835</td>\n",
       "      <td>2745</td>\n",
       "      <td>2610kg</td>\n",
       "      <td>--</td>\n",
       "      <td>6  with Sequential Shift</td>\n",
       "      <td>Ventilated Disc</td>\n",
       "      <td>Tubeless,Radial</td>\n",
       "      <td>5.8</td>\n",
       "      <td>--</td>\n",
       "      <td>50 Lakh</td>\n",
       "    </tr>\n",
       "    <tr>\n",
       "      <th>64</th>\n",
       "      <td>Audi Q3 35 TDI Quattro Premium</td>\n",
       "      <td>2019</td>\n",
       "      <td>20,000</td>\n",
       "      <td>Diesel</td>\n",
       "      <td>First Owner</td>\n",
       "      <td>Automatic</td>\n",
       "      <td>Comprehensive</td>\n",
       "      <td>5</td>\n",
       "      <td>KA05</td>\n",
       "      <td>1950</td>\n",
       "      <td>12.6</td>\n",
       "      <td>194</td>\n",
       "      <td>400</td>\n",
       "      <td>White</td>\n",
       "      <td>400Nm@1600-2800rpm</td>\n",
       "      <td>In-Line Engine</td>\n",
       "      <td>1950</td>\n",
       "      <td>4</td>\n",
       "      <td>Yes</td>\n",
       "      <td>4686mm</td>\n",
       "      <td>2020</td>\n",
       "      <td>1442</td>\n",
       "      <td>2840</td>\n",
       "      <td>1588</td>\n",
       "      <td>1655</td>\n",
       "      <td>9</td>\n",
       "      <td>Disc</td>\n",
       "      <td>Disc</td>\n",
       "      <td>Power</td>\n",
       "      <td>Tubeless, Radial</td>\n",
       "      <td>46.50 Lakh</td>\n",
       "    </tr>\n",
       "    <tr>\n",
       "      <th>57</th>\n",
       "      <td>Honda City i VTEC VX</td>\n",
       "      <td>2018</td>\n",
       "      <td>37,000</td>\n",
       "      <td>Petrol</td>\n",
       "      <td>First Owner</td>\n",
       "      <td>Automatic</td>\n",
       "      <td>Third Party</td>\n",
       "      <td>5</td>\n",
       "      <td>GJ18</td>\n",
       "      <td>1991</td>\n",
       "      <td>15.04</td>\n",
       "      <td>183</td>\n",
       "      <td>300</td>\n",
       "      <td>Red</td>\n",
       "      <td>300Nm@1200-4000rpm</td>\n",
       "      <td>In Line Petrol Engine</td>\n",
       "      <td>1991</td>\n",
       "      <td>4</td>\n",
       "      <td>Yes</td>\n",
       "      <td>4630mm</td>\n",
       "      <td>1777</td>\n",
       "      <td>1432</td>\n",
       "      <td>2699</td>\n",
       "      <td>1549</td>\n",
       "      <td>1510</td>\n",
       "      <td>7</td>\n",
       "      <td>Disc</td>\n",
       "      <td>Disc</td>\n",
       "      <td>Power</td>\n",
       "      <td>Tubeless,Radial</td>\n",
       "      <td>27 Lakh</td>\n",
       "    </tr>\n",
       "    <tr>\n",
       "      <th>56</th>\n",
       "      <td>Mahindra Thar LX 4-Str Convert Top Diesel AT</td>\n",
       "      <td>2020</td>\n",
       "      <td>23,811</td>\n",
       "      <td>Petrol</td>\n",
       "      <td>First Owner</td>\n",
       "      <td>Automatic</td>\n",
       "      <td>Comprehensive</td>\n",
       "      <td>5</td>\n",
       "      <td>GJ02</td>\n",
       "      <td>999</td>\n",
       "      <td>16.35</td>\n",
       "      <td>108.62</td>\n",
       "      <td>175</td>\n",
       "      <td>Grey</td>\n",
       "      <td>175Nm@1750-4000rpm</td>\n",
       "      <td>TSI Petrol Engine</td>\n",
       "      <td>999</td>\n",
       "      <td>3</td>\n",
       "      <td>74.5 X 76.4mm</td>\n",
       "      <td>4390mm</td>\n",
       "      <td>1699</td>\n",
       "      <td>1467</td>\n",
       "      <td>2553</td>\n",
       "      <td>1457</td>\n",
       "      <td>1175</td>\n",
       "      <td>6</td>\n",
       "      <td>Disc</td>\n",
       "      <td>Drum</td>\n",
       "      <td>Electronic</td>\n",
       "      <td>15</td>\n",
       "      <td>10.50 Lakh</td>\n",
       "    </tr>\n",
       "  </tbody>\n",
       "</table>\n",
       "</div>"
      ],
      "text/plain": [
       "                                           Model Manufactring_year KMs_driven  \\\n",
       "25                      Jeep Compass 2.0 Limited              2017     48,872   \n",
       "72                Hyundai Creta 1.6 VTVT SX Plus              2021     27,000   \n",
       "64                Audi Q3 35 TDI Quattro Premium              2019     20,000   \n",
       "57                          Honda City i VTEC VX              2018     37,000   \n",
       "56  Mahindra Thar LX 4-Str Convert Top Diesel AT              2020     23,811   \n",
       "\n",
       "   Fuel_Type    Ownership Transmission     Insurance_Validity Seats   RTO  \\\n",
       "25    Petrol  First Owner       Manual  Third Party insurance     5  GJ01   \n",
       "72    Diesel  First Owner    Automatic          Comprehensive     7  KA03   \n",
       "64    Diesel  First Owner    Automatic          Comprehensive     5  KA05   \n",
       "57    Petrol  First Owner    Automatic            Third Party     5  GJ18   \n",
       "56    Petrol  First Owner    Automatic          Comprehensive     5  GJ02   \n",
       "\n",
       "   Engine_displacement   Milage Max_power Torque           Color  \\\n",
       "25                 799    25.17      53.3     72  ICE Cool White   \n",
       "72                2755  2755 CC     500Nm     18           White   \n",
       "64                1950     12.6       194    400           White   \n",
       "57                1991    15.04       183    300             Red   \n",
       "56                 999    16.35    108.62    175            Grey   \n",
       "\n",
       "            Max_Torque            Engine_Type Displacement No_of_cylinder  \\\n",
       "25        72Nm@4386rpm          Petrol Engine          799              3   \n",
       "72  500Nm@1600-2800rpm    2.8 L Diesel Engine         2755              4   \n",
       "64  400Nm@1600-2800rpm         In-Line Engine         1950              4   \n",
       "57  300Nm@1200-4000rpm  In Line Petrol Engine         1991              4   \n",
       "56  175Nm@1750-4000rpm      TSI Petrol Engine          999              3   \n",
       "\n",
       "    Turbo_charger  Length  Width Height Wheel_Base Front_Tread Kerb_Weight  \\\n",
       "25             No  3679mm   1579   1478       2422          --          --   \n",
       "72            Yes  4795mm   1855   1835       2745      2610kg          --   \n",
       "64            Yes  4686mm   2020   1442       2840        1588        1655   \n",
       "57            Yes  4630mm  1777    1432       2699        1549        1510   \n",
       "56  74.5 X 76.4mm  4390mm   1699   1467       2553        1457        1175   \n",
       "\n",
       "                    Gear_Box Front_Brake_Type  Rear_Brake_Type Steering_Type  \\\n",
       "25                        5              Disc             Drum         Power   \n",
       "72  6  with Sequential Shift  Ventilated Disc  Tubeless,Radial           5.8   \n",
       "64                        9              Disc             Disc         Power   \n",
       "57                        7              Disc             Disc         Power   \n",
       "56                        6              Disc             Drum    Electronic   \n",
       "\n",
       "           Tyre_Type       Price  \n",
       "25   Tubeless,Radial   3.11 Lakh  \n",
       "72                --     50 Lakh  \n",
       "64  Tubeless, Radial  46.50 Lakh  \n",
       "57   Tubeless,Radial     27 Lakh  \n",
       "56                15  10.50 Lakh  "
      ]
     },
     "execution_count": 70,
     "metadata": {},
     "output_type": "execute_result"
    }
   ],
   "source": [
    "data = list(zip(Model, Manufactring_year, KMs_driven, Fuel_Type,Ownership, Transmission, Insurance_Validity,\n",
    "               Seats, RTO,Engine_displacement, Milage, Max_power,  Torque,\n",
    "               Color, Max_Torque, Engine_Type, Displacement, No_of_cylinder, Turbo_charger, \n",
    "               Length, Width, Height, Wheel_Base, Front_Tread, Kerb_Weight, Gear_Box, Front_Brake_Type, \n",
    "               Rear_Brake_Type, Steering_Type, Tyre_Type, Price))\n",
    "\n",
    "Set1 = pd.DataFrame(data, columns=['Model', 'Manufactring_year', 'KMs_driven', 'Fuel_Type','Ownership', 'Transmission', \n",
    "               'Insurance_Validity','Seats', 'RTO','Engine_displacement', 'Milage', 'Max_power',  'Torque',\n",
    "               'Color', 'Max_Torque', 'Engine_Type', 'Displacement', 'No_of_cylinder', 'Turbo_charger', \n",
    "               'Length', 'Width', 'Height', 'Wheel_Base', 'Front_Tread', 'Kerb_Weight', 'Gear_Box', 'Front_Brake_Type', \n",
    "               'Rear_Brake_Type', 'Steering_Type', 'Tyre_Type', 'Price'])\n",
    "\n",
    "pd.set_option('display.max_columns', 35)\n",
    "Set1.sample(n=5)"
   ]
  },
  {
   "cell_type": "code",
   "execution_count": 71,
   "id": "906538d4",
   "metadata": {},
   "outputs": [
    {
     "data": {
      "text/plain": [
       "(97, 31)"
      ]
     },
     "execution_count": 71,
     "metadata": {},
     "output_type": "execute_result"
    }
   ],
   "source": [
    "# saving the dataframe \n",
    "Set1.to_csv('Set1.csv') \n",
    "Set1.shape"
   ]
  },
  {
   "cell_type": "markdown",
   "id": "da5a5421",
   "metadata": {},
   "source": [
    "Scrape all car's details from the corrosponding URL.\n",
    "From Next sets of data same code of Set1 is Re-Run again and again"
   ]
  },
  {
   "cell_type": "markdown",
   "id": "19c1b76b",
   "metadata": {},
   "source": [
    "check the shape of all the 15sets of scrapped data. Then concate them to get the final model."
   ]
  },
  {
   "cell_type": "code",
   "execution_count": 72,
   "id": "c179af78",
   "metadata": {},
   "outputs": [
    {
     "ename": "FileNotFoundError",
     "evalue": "[Errno 2] No such file or directory: 'Set2.csv'",
     "output_type": "error",
     "traceback": [
      "\u001b[1;31m---------------------------------------------------------------------------\u001b[0m",
      "\u001b[1;31mFileNotFoundError\u001b[0m                         Traceback (most recent call last)",
      "\u001b[1;32m~\\AppData\\Local\\Temp/ipykernel_7988/4041674663.py\u001b[0m in \u001b[0;36m<module>\u001b[1;34m\u001b[0m\n\u001b[0;32m      1\u001b[0m \u001b[0mdf1\u001b[0m \u001b[1;33m=\u001b[0m \u001b[0mpd\u001b[0m\u001b[1;33m.\u001b[0m\u001b[0mread_csv\u001b[0m\u001b[1;33m(\u001b[0m\u001b[1;34mr'Set1.csv'\u001b[0m\u001b[1;33m)\u001b[0m\u001b[1;33m\u001b[0m\u001b[1;33m\u001b[0m\u001b[0m\n\u001b[1;32m----> 2\u001b[1;33m \u001b[0mdf2\u001b[0m \u001b[1;33m=\u001b[0m \u001b[0mpd\u001b[0m\u001b[1;33m.\u001b[0m\u001b[0mread_csv\u001b[0m\u001b[1;33m(\u001b[0m\u001b[1;34mr'Set2.csv'\u001b[0m\u001b[1;33m)\u001b[0m\u001b[1;33m\u001b[0m\u001b[1;33m\u001b[0m\u001b[0m\n\u001b[0m\u001b[0;32m      3\u001b[0m \u001b[0mdf3\u001b[0m \u001b[1;33m=\u001b[0m \u001b[0mpd\u001b[0m\u001b[1;33m.\u001b[0m\u001b[0mread_csv\u001b[0m\u001b[1;33m(\u001b[0m\u001b[1;34mr'Set3.csv'\u001b[0m\u001b[1;33m)\u001b[0m\u001b[1;33m\u001b[0m\u001b[1;33m\u001b[0m\u001b[0m\n\u001b[0;32m      4\u001b[0m \u001b[0mdf4\u001b[0m \u001b[1;33m=\u001b[0m \u001b[0mpd\u001b[0m\u001b[1;33m.\u001b[0m\u001b[0mread_csv\u001b[0m\u001b[1;33m(\u001b[0m\u001b[1;34mr'Set4.csv'\u001b[0m\u001b[1;33m)\u001b[0m\u001b[1;33m\u001b[0m\u001b[1;33m\u001b[0m\u001b[0m\n\u001b[0;32m      5\u001b[0m \u001b[0mdf5\u001b[0m \u001b[1;33m=\u001b[0m \u001b[0mpd\u001b[0m\u001b[1;33m.\u001b[0m\u001b[0mread_csv\u001b[0m\u001b[1;33m(\u001b[0m\u001b[1;34mr'Set5.csv'\u001b[0m\u001b[1;33m)\u001b[0m\u001b[1;33m\u001b[0m\u001b[1;33m\u001b[0m\u001b[0m\n",
      "\u001b[1;32mC:\\ProgramData\\Anaconda3\\lib\\site-packages\\pandas\\util\\_decorators.py\u001b[0m in \u001b[0;36mwrapper\u001b[1;34m(*args, **kwargs)\u001b[0m\n\u001b[0;32m    309\u001b[0m                     \u001b[0mstacklevel\u001b[0m\u001b[1;33m=\u001b[0m\u001b[0mstacklevel\u001b[0m\u001b[1;33m,\u001b[0m\u001b[1;33m\u001b[0m\u001b[1;33m\u001b[0m\u001b[0m\n\u001b[0;32m    310\u001b[0m                 )\n\u001b[1;32m--> 311\u001b[1;33m             \u001b[1;32mreturn\u001b[0m \u001b[0mfunc\u001b[0m\u001b[1;33m(\u001b[0m\u001b[1;33m*\u001b[0m\u001b[0margs\u001b[0m\u001b[1;33m,\u001b[0m \u001b[1;33m**\u001b[0m\u001b[0mkwargs\u001b[0m\u001b[1;33m)\u001b[0m\u001b[1;33m\u001b[0m\u001b[1;33m\u001b[0m\u001b[0m\n\u001b[0m\u001b[0;32m    312\u001b[0m \u001b[1;33m\u001b[0m\u001b[0m\n\u001b[0;32m    313\u001b[0m         \u001b[1;32mreturn\u001b[0m \u001b[0mwrapper\u001b[0m\u001b[1;33m\u001b[0m\u001b[1;33m\u001b[0m\u001b[0m\n",
      "\u001b[1;32mC:\\ProgramData\\Anaconda3\\lib\\site-packages\\pandas\\io\\parsers\\readers.py\u001b[0m in \u001b[0;36mread_csv\u001b[1;34m(filepath_or_buffer, sep, delimiter, header, names, index_col, usecols, squeeze, prefix, mangle_dupe_cols, dtype, engine, converters, true_values, false_values, skipinitialspace, skiprows, skipfooter, nrows, na_values, keep_default_na, na_filter, verbose, skip_blank_lines, parse_dates, infer_datetime_format, keep_date_col, date_parser, dayfirst, cache_dates, iterator, chunksize, compression, thousands, decimal, lineterminator, quotechar, quoting, doublequote, escapechar, comment, encoding, encoding_errors, dialect, error_bad_lines, warn_bad_lines, on_bad_lines, delim_whitespace, low_memory, memory_map, float_precision, storage_options)\u001b[0m\n\u001b[0;32m    584\u001b[0m     \u001b[0mkwds\u001b[0m\u001b[1;33m.\u001b[0m\u001b[0mupdate\u001b[0m\u001b[1;33m(\u001b[0m\u001b[0mkwds_defaults\u001b[0m\u001b[1;33m)\u001b[0m\u001b[1;33m\u001b[0m\u001b[1;33m\u001b[0m\u001b[0m\n\u001b[0;32m    585\u001b[0m \u001b[1;33m\u001b[0m\u001b[0m\n\u001b[1;32m--> 586\u001b[1;33m     \u001b[1;32mreturn\u001b[0m \u001b[0m_read\u001b[0m\u001b[1;33m(\u001b[0m\u001b[0mfilepath_or_buffer\u001b[0m\u001b[1;33m,\u001b[0m \u001b[0mkwds\u001b[0m\u001b[1;33m)\u001b[0m\u001b[1;33m\u001b[0m\u001b[1;33m\u001b[0m\u001b[0m\n\u001b[0m\u001b[0;32m    587\u001b[0m \u001b[1;33m\u001b[0m\u001b[0m\n\u001b[0;32m    588\u001b[0m \u001b[1;33m\u001b[0m\u001b[0m\n",
      "\u001b[1;32mC:\\ProgramData\\Anaconda3\\lib\\site-packages\\pandas\\io\\parsers\\readers.py\u001b[0m in \u001b[0;36m_read\u001b[1;34m(filepath_or_buffer, kwds)\u001b[0m\n\u001b[0;32m    480\u001b[0m \u001b[1;33m\u001b[0m\u001b[0m\n\u001b[0;32m    481\u001b[0m     \u001b[1;31m# Create the parser.\u001b[0m\u001b[1;33m\u001b[0m\u001b[1;33m\u001b[0m\u001b[0m\n\u001b[1;32m--> 482\u001b[1;33m     \u001b[0mparser\u001b[0m \u001b[1;33m=\u001b[0m \u001b[0mTextFileReader\u001b[0m\u001b[1;33m(\u001b[0m\u001b[0mfilepath_or_buffer\u001b[0m\u001b[1;33m,\u001b[0m \u001b[1;33m**\u001b[0m\u001b[0mkwds\u001b[0m\u001b[1;33m)\u001b[0m\u001b[1;33m\u001b[0m\u001b[1;33m\u001b[0m\u001b[0m\n\u001b[0m\u001b[0;32m    483\u001b[0m \u001b[1;33m\u001b[0m\u001b[0m\n\u001b[0;32m    484\u001b[0m     \u001b[1;32mif\u001b[0m \u001b[0mchunksize\u001b[0m \u001b[1;32mor\u001b[0m \u001b[0miterator\u001b[0m\u001b[1;33m:\u001b[0m\u001b[1;33m\u001b[0m\u001b[1;33m\u001b[0m\u001b[0m\n",
      "\u001b[1;32mC:\\ProgramData\\Anaconda3\\lib\\site-packages\\pandas\\io\\parsers\\readers.py\u001b[0m in \u001b[0;36m__init__\u001b[1;34m(self, f, engine, **kwds)\u001b[0m\n\u001b[0;32m    809\u001b[0m             \u001b[0mself\u001b[0m\u001b[1;33m.\u001b[0m\u001b[0moptions\u001b[0m\u001b[1;33m[\u001b[0m\u001b[1;34m\"has_index_names\"\u001b[0m\u001b[1;33m]\u001b[0m \u001b[1;33m=\u001b[0m \u001b[0mkwds\u001b[0m\u001b[1;33m[\u001b[0m\u001b[1;34m\"has_index_names\"\u001b[0m\u001b[1;33m]\u001b[0m\u001b[1;33m\u001b[0m\u001b[1;33m\u001b[0m\u001b[0m\n\u001b[0;32m    810\u001b[0m \u001b[1;33m\u001b[0m\u001b[0m\n\u001b[1;32m--> 811\u001b[1;33m         \u001b[0mself\u001b[0m\u001b[1;33m.\u001b[0m\u001b[0m_engine\u001b[0m \u001b[1;33m=\u001b[0m \u001b[0mself\u001b[0m\u001b[1;33m.\u001b[0m\u001b[0m_make_engine\u001b[0m\u001b[1;33m(\u001b[0m\u001b[0mself\u001b[0m\u001b[1;33m.\u001b[0m\u001b[0mengine\u001b[0m\u001b[1;33m)\u001b[0m\u001b[1;33m\u001b[0m\u001b[1;33m\u001b[0m\u001b[0m\n\u001b[0m\u001b[0;32m    812\u001b[0m \u001b[1;33m\u001b[0m\u001b[0m\n\u001b[0;32m    813\u001b[0m     \u001b[1;32mdef\u001b[0m \u001b[0mclose\u001b[0m\u001b[1;33m(\u001b[0m\u001b[0mself\u001b[0m\u001b[1;33m)\u001b[0m\u001b[1;33m:\u001b[0m\u001b[1;33m\u001b[0m\u001b[1;33m\u001b[0m\u001b[0m\n",
      "\u001b[1;32mC:\\ProgramData\\Anaconda3\\lib\\site-packages\\pandas\\io\\parsers\\readers.py\u001b[0m in \u001b[0;36m_make_engine\u001b[1;34m(self, engine)\u001b[0m\n\u001b[0;32m   1038\u001b[0m             )\n\u001b[0;32m   1039\u001b[0m         \u001b[1;31m# error: Too many arguments for \"ParserBase\"\u001b[0m\u001b[1;33m\u001b[0m\u001b[1;33m\u001b[0m\u001b[0m\n\u001b[1;32m-> 1040\u001b[1;33m         \u001b[1;32mreturn\u001b[0m \u001b[0mmapping\u001b[0m\u001b[1;33m[\u001b[0m\u001b[0mengine\u001b[0m\u001b[1;33m]\u001b[0m\u001b[1;33m(\u001b[0m\u001b[0mself\u001b[0m\u001b[1;33m.\u001b[0m\u001b[0mf\u001b[0m\u001b[1;33m,\u001b[0m \u001b[1;33m**\u001b[0m\u001b[0mself\u001b[0m\u001b[1;33m.\u001b[0m\u001b[0moptions\u001b[0m\u001b[1;33m)\u001b[0m  \u001b[1;31m# type: ignore[call-arg]\u001b[0m\u001b[1;33m\u001b[0m\u001b[1;33m\u001b[0m\u001b[0m\n\u001b[0m\u001b[0;32m   1041\u001b[0m \u001b[1;33m\u001b[0m\u001b[0m\n\u001b[0;32m   1042\u001b[0m     \u001b[1;32mdef\u001b[0m \u001b[0m_failover_to_python\u001b[0m\u001b[1;33m(\u001b[0m\u001b[0mself\u001b[0m\u001b[1;33m)\u001b[0m\u001b[1;33m:\u001b[0m\u001b[1;33m\u001b[0m\u001b[1;33m\u001b[0m\u001b[0m\n",
      "\u001b[1;32mC:\\ProgramData\\Anaconda3\\lib\\site-packages\\pandas\\io\\parsers\\c_parser_wrapper.py\u001b[0m in \u001b[0;36m__init__\u001b[1;34m(self, src, **kwds)\u001b[0m\n\u001b[0;32m     49\u001b[0m \u001b[1;33m\u001b[0m\u001b[0m\n\u001b[0;32m     50\u001b[0m         \u001b[1;31m# open handles\u001b[0m\u001b[1;33m\u001b[0m\u001b[1;33m\u001b[0m\u001b[0m\n\u001b[1;32m---> 51\u001b[1;33m         \u001b[0mself\u001b[0m\u001b[1;33m.\u001b[0m\u001b[0m_open_handles\u001b[0m\u001b[1;33m(\u001b[0m\u001b[0msrc\u001b[0m\u001b[1;33m,\u001b[0m \u001b[0mkwds\u001b[0m\u001b[1;33m)\u001b[0m\u001b[1;33m\u001b[0m\u001b[1;33m\u001b[0m\u001b[0m\n\u001b[0m\u001b[0;32m     52\u001b[0m         \u001b[1;32massert\u001b[0m \u001b[0mself\u001b[0m\u001b[1;33m.\u001b[0m\u001b[0mhandles\u001b[0m \u001b[1;32mis\u001b[0m \u001b[1;32mnot\u001b[0m \u001b[1;32mNone\u001b[0m\u001b[1;33m\u001b[0m\u001b[1;33m\u001b[0m\u001b[0m\n\u001b[0;32m     53\u001b[0m \u001b[1;33m\u001b[0m\u001b[0m\n",
      "\u001b[1;32mC:\\ProgramData\\Anaconda3\\lib\\site-packages\\pandas\\io\\parsers\\base_parser.py\u001b[0m in \u001b[0;36m_open_handles\u001b[1;34m(self, src, kwds)\u001b[0m\n\u001b[0;32m    220\u001b[0m         \u001b[0mLet\u001b[0m \u001b[0mthe\u001b[0m \u001b[0mreaders\u001b[0m \u001b[0mopen\u001b[0m \u001b[0mIOHandles\u001b[0m \u001b[0mafter\u001b[0m \u001b[0mthey\u001b[0m \u001b[0mare\u001b[0m \u001b[0mdone\u001b[0m \u001b[1;32mwith\u001b[0m \u001b[0mtheir\u001b[0m \u001b[0mpotential\u001b[0m \u001b[0mraises\u001b[0m\u001b[1;33m.\u001b[0m\u001b[1;33m\u001b[0m\u001b[1;33m\u001b[0m\u001b[0m\n\u001b[0;32m    221\u001b[0m         \"\"\"\n\u001b[1;32m--> 222\u001b[1;33m         self.handles = get_handle(\n\u001b[0m\u001b[0;32m    223\u001b[0m             \u001b[0msrc\u001b[0m\u001b[1;33m,\u001b[0m\u001b[1;33m\u001b[0m\u001b[1;33m\u001b[0m\u001b[0m\n\u001b[0;32m    224\u001b[0m             \u001b[1;34m\"r\"\u001b[0m\u001b[1;33m,\u001b[0m\u001b[1;33m\u001b[0m\u001b[1;33m\u001b[0m\u001b[0m\n",
      "\u001b[1;32mC:\\ProgramData\\Anaconda3\\lib\\site-packages\\pandas\\io\\common.py\u001b[0m in \u001b[0;36mget_handle\u001b[1;34m(path_or_buf, mode, encoding, compression, memory_map, is_text, errors, storage_options)\u001b[0m\n\u001b[0;32m    700\u001b[0m         \u001b[1;32mif\u001b[0m \u001b[0mioargs\u001b[0m\u001b[1;33m.\u001b[0m\u001b[0mencoding\u001b[0m \u001b[1;32mand\u001b[0m \u001b[1;34m\"b\"\u001b[0m \u001b[1;32mnot\u001b[0m \u001b[1;32min\u001b[0m \u001b[0mioargs\u001b[0m\u001b[1;33m.\u001b[0m\u001b[0mmode\u001b[0m\u001b[1;33m:\u001b[0m\u001b[1;33m\u001b[0m\u001b[1;33m\u001b[0m\u001b[0m\n\u001b[0;32m    701\u001b[0m             \u001b[1;31m# Encoding\u001b[0m\u001b[1;33m\u001b[0m\u001b[1;33m\u001b[0m\u001b[0m\n\u001b[1;32m--> 702\u001b[1;33m             handle = open(\n\u001b[0m\u001b[0;32m    703\u001b[0m                 \u001b[0mhandle\u001b[0m\u001b[1;33m,\u001b[0m\u001b[1;33m\u001b[0m\u001b[1;33m\u001b[0m\u001b[0m\n\u001b[0;32m    704\u001b[0m                 \u001b[0mioargs\u001b[0m\u001b[1;33m.\u001b[0m\u001b[0mmode\u001b[0m\u001b[1;33m,\u001b[0m\u001b[1;33m\u001b[0m\u001b[1;33m\u001b[0m\u001b[0m\n",
      "\u001b[1;31mFileNotFoundError\u001b[0m: [Errno 2] No such file or directory: 'Set2.csv'"
     ]
    }
   ],
   "source": [
    "df1 = pd.read_csv(r'Set1.csv')\n",
    "df2 = pd.read_csv(r'Set2.csv')\n",
    "df3 = pd.read_csv(r'Set3.csv')\n",
    "df4 = pd.read_csv(r'Set4.csv')\n",
    "df5 = pd.read_csv(r'Set5.csv')\n",
    "df6 = pd.read_csv(r'Set6.csv')\n",
    "df7 = pd.read_csv(r'Set7.csv')\n",
    "df8 = pd.read_csv(r'Set8.csv')\n",
    "df9 = pd.read_csv(r'Set9.csv')\n",
    "df10 = pd.read_csv(r'Set10.csv')\n",
    "df11 = pd.read_csv(r'Set11.csv')\n",
    "df12 = pd.read_csv(r'Set12.csv')\n",
    "df13 = pd.read_csv(r'Set13.csv')\n",
    "df14 = pd.read_csv(r'Set14.csv')\n",
    "df15 = pd.read_csv(r'Set15.csv')"
   ]
  },
  {
   "cell_type": "code",
   "execution_count": 73,
   "id": "49bf0a39",
   "metadata": {},
   "outputs": [
    {
     "data": {
      "text/html": [
       "<div>\n",
       "<style scoped>\n",
       "    .dataframe tbody tr th:only-of-type {\n",
       "        vertical-align: middle;\n",
       "    }\n",
       "\n",
       "    .dataframe tbody tr th {\n",
       "        vertical-align: top;\n",
       "    }\n",
       "\n",
       "    .dataframe thead th {\n",
       "        text-align: right;\n",
       "    }\n",
       "</style>\n",
       "<table border=\"1\" class=\"dataframe\">\n",
       "  <thead>\n",
       "    <tr style=\"text-align: right;\">\n",
       "      <th></th>\n",
       "      <th>Model</th>\n",
       "      <th>Manufactring_year</th>\n",
       "      <th>KMs_driven</th>\n",
       "      <th>Fuel_Type</th>\n",
       "      <th>Ownership</th>\n",
       "      <th>Transmission</th>\n",
       "      <th>Insurance_Validity</th>\n",
       "      <th>Seats</th>\n",
       "      <th>RTO</th>\n",
       "      <th>Engine_displacement</th>\n",
       "      <th>Milage</th>\n",
       "      <th>Max_power</th>\n",
       "      <th>Torque</th>\n",
       "      <th>Color</th>\n",
       "      <th>Max_Torque</th>\n",
       "      <th>Engine_Type</th>\n",
       "      <th>Displacement</th>\n",
       "      <th>No_of_cylinder</th>\n",
       "      <th>Turbo_charger</th>\n",
       "      <th>Length</th>\n",
       "      <th>Width</th>\n",
       "      <th>Height</th>\n",
       "      <th>Wheel_Base</th>\n",
       "      <th>Front_Tread</th>\n",
       "      <th>Kerb_Weight</th>\n",
       "      <th>Gear_Box</th>\n",
       "      <th>Front_Brake_Type</th>\n",
       "      <th>Rear_Brake_Type</th>\n",
       "      <th>Steering_Type</th>\n",
       "      <th>Tyre_Type</th>\n",
       "      <th>Price</th>\n",
       "    </tr>\n",
       "  </thead>\n",
       "  <tbody>\n",
       "    <tr>\n",
       "      <th>35</th>\n",
       "      <td>Renault KWID RXL</td>\n",
       "      <td>2016</td>\n",
       "      <td>46,417</td>\n",
       "      <td>Petrol</td>\n",
       "      <td>First Owner</td>\n",
       "      <td>Automatic</td>\n",
       "      <td>Third Party insurance</td>\n",
       "      <td>5</td>\n",
       "      <td>GJ01</td>\n",
       "      <td>1497</td>\n",
       "      <td>18</td>\n",
       "      <td>117.3</td>\n",
       "      <td>145</td>\n",
       "      <td>White</td>\n",
       "      <td>145Nm@4600rpm</td>\n",
       "      <td>i VTEC Engine</td>\n",
       "      <td>1497</td>\n",
       "      <td>4</td>\n",
       "      <td>73.0 X 89.4 mm</td>\n",
       "      <td>4440mm</td>\n",
       "      <td>1695</td>\n",
       "      <td>1495</td>\n",
       "      <td>2600</td>\n",
       "      <td>1480</td>\n",
       "      <td>1085</td>\n",
       "      <td>5  CVT</td>\n",
       "      <td>Disc</td>\n",
       "      <td>Drum</td>\n",
       "      <td>Power</td>\n",
       "      <td>Tubeless,Radial</td>\n",
       "      <td>8.39 Lakh</td>\n",
       "    </tr>\n",
       "    <tr>\n",
       "      <th>20</th>\n",
       "      <td>Renault KWID RXT</td>\n",
       "      <td>2017</td>\n",
       "      <td>85,672</td>\n",
       "      <td>Diesel</td>\n",
       "      <td>First Owner</td>\n",
       "      <td>Manual</td>\n",
       "      <td>Third Party insurance</td>\n",
       "      <td>5</td>\n",
       "      <td>GJ01</td>\n",
       "      <td>1396</td>\n",
       "      <td>22.54</td>\n",
       "      <td>88.73</td>\n",
       "      <td>219.7</td>\n",
       "      <td>Polar White</td>\n",
       "      <td>219.7Nm@1500-2750rpm</td>\n",
       "      <td>U2 CRDI Diesel Engine</td>\n",
       "      <td>1396</td>\n",
       "      <td>4</td>\n",
       "      <td>Yes</td>\n",
       "      <td>3985mm</td>\n",
       "      <td>1734</td>\n",
       "      <td>1505</td>\n",
       "      <td>2570</td>\n",
       "      <td>1505</td>\n",
       "      <td>1515</td>\n",
       "      <td>6</td>\n",
       "      <td>Disc</td>\n",
       "      <td>Drum</td>\n",
       "      <td>Power</td>\n",
       "      <td>Tubeless</td>\n",
       "      <td>6.67 Lakh</td>\n",
       "    </tr>\n",
       "    <tr>\n",
       "      <th>89</th>\n",
       "      <td>Hyundai Grand i10 Asta Option</td>\n",
       "      <td>2016</td>\n",
       "      <td>90,000</td>\n",
       "      <td>Diesel</td>\n",
       "      <td>Second Owner</td>\n",
       "      <td>Automatic</td>\n",
       "      <td>Comprehensive</td>\n",
       "      <td>4</td>\n",
       "      <td>TN09</td>\n",
       "      <td>1991</td>\n",
       "      <td>18.1</td>\n",
       "      <td>147.9</td>\n",
       "      <td>327</td>\n",
       "      <td>Silver</td>\n",
       "      <td>327Nm@2600rpm</td>\n",
       "      <td>4 Cylinder, VCDi</td>\n",
       "      <td>1991</td>\n",
       "      <td>4</td>\n",
       "      <td>No</td>\n",
       "      <td>4597mm</td>\n",
       "      <td>1788</td>\n",
       "      <td>1477</td>\n",
       "      <td>2685</td>\n",
       "      <td>1544</td>\n",
       "      <td>1520</td>\n",
       "      <td>6</td>\n",
       "      <td>Disc</td>\n",
       "      <td>Tubeless,Radial</td>\n",
       "      <td>5.4m</td>\n",
       "      <td>--</td>\n",
       "      <td>6.50 Lakh</td>\n",
       "    </tr>\n",
       "    <tr>\n",
       "      <th>38</th>\n",
       "      <td>Renault KWID RXL</td>\n",
       "      <td>2017</td>\n",
       "      <td>51,085</td>\n",
       "      <td>Petrol</td>\n",
       "      <td>First Owner</td>\n",
       "      <td>Manual</td>\n",
       "      <td>Third Party insurance</td>\n",
       "      <td>5</td>\n",
       "      <td>GJ18</td>\n",
       "      <td>814</td>\n",
       "      <td>21.1</td>\n",
       "      <td>55.2</td>\n",
       "      <td>74.5</td>\n",
       "      <td>Polar White</td>\n",
       "      <td>74.5Nm@4000rpm</td>\n",
       "      <td>Petrol Engine</td>\n",
       "      <td>814</td>\n",
       "      <td>3</td>\n",
       "      <td>No</td>\n",
       "      <td>3495mm</td>\n",
       "      <td>1550</td>\n",
       "      <td>1500</td>\n",
       "      <td>2380</td>\n",
       "      <td>1386</td>\n",
       "      <td>--</td>\n",
       "      <td>5</td>\n",
       "      <td>Disc</td>\n",
       "      <td>Drum</td>\n",
       "      <td>Power</td>\n",
       "      <td>Tubeless</td>\n",
       "      <td>2.93 Lakh</td>\n",
       "    </tr>\n",
       "    <tr>\n",
       "      <th>60</th>\n",
       "      <td>Mercedes-Benz GLC Progressive 220d</td>\n",
       "      <td>2012</td>\n",
       "      <td>68,000</td>\n",
       "      <td>Diesel</td>\n",
       "      <td>First Owner</td>\n",
       "      <td>Manual</td>\n",
       "      <td>Third Party insurance</td>\n",
       "      <td>7</td>\n",
       "      <td>GJ01</td>\n",
       "      <td>2179</td>\n",
       "      <td>15.1</td>\n",
       "      <td>140</td>\n",
       "      <td>330</td>\n",
       "      <td>White</td>\n",
       "      <td>330Nm@1600-2800rpm</td>\n",
       "      <td>mHawk Diesel Engine</td>\n",
       "      <td>2179</td>\n",
       "      <td>4</td>\n",
       "      <td>Yes</td>\n",
       "      <td>4585mm</td>\n",
       "      <td>1890</td>\n",
       "      <td>1785</td>\n",
       "      <td>2700</td>\n",
       "      <td>2450kg</td>\n",
       "      <td>--</td>\n",
       "      <td>6</td>\n",
       "      <td>Disc &amp; Caliper Type</td>\n",
       "      <td>Disc &amp; Caliper Type</td>\n",
       "      <td>Power</td>\n",
       "      <td>Tubeless,Radial</td>\n",
       "      <td>6.50 Lakh</td>\n",
       "    </tr>\n",
       "  </tbody>\n",
       "</table>\n",
       "</div>"
      ],
      "text/plain": [
       "                                 Model Manufactring_year KMs_driven Fuel_Type  \\\n",
       "35                    Renault KWID RXL              2016     46,417    Petrol   \n",
       "20                    Renault KWID RXT              2017     85,672    Diesel   \n",
       "89       Hyundai Grand i10 Asta Option              2016     90,000    Diesel   \n",
       "38                    Renault KWID RXL              2017     51,085    Petrol   \n",
       "60  Mercedes-Benz GLC Progressive 220d              2012     68,000    Diesel   \n",
       "\n",
       "       Ownership Transmission     Insurance_Validity Seats   RTO  \\\n",
       "35   First Owner    Automatic  Third Party insurance     5  GJ01   \n",
       "20   First Owner       Manual  Third Party insurance     5  GJ01   \n",
       "89  Second Owner    Automatic          Comprehensive     4  TN09   \n",
       "38   First Owner       Manual  Third Party insurance     5  GJ18   \n",
       "60   First Owner       Manual  Third Party insurance     7  GJ01   \n",
       "\n",
       "   Engine_displacement Milage Max_power Torque        Color  \\\n",
       "35                1497     18     117.3    145        White   \n",
       "20                1396  22.54     88.73  219.7  Polar White   \n",
       "89                1991   18.1     147.9    327       Silver   \n",
       "38                 814   21.1      55.2   74.5  Polar White   \n",
       "60                2179   15.1       140    330        White   \n",
       "\n",
       "              Max_Torque            Engine_Type Displacement No_of_cylinder  \\\n",
       "35         145Nm@4600rpm          i VTEC Engine         1497              4   \n",
       "20  219.7Nm@1500-2750rpm  U2 CRDI Diesel Engine         1396              4   \n",
       "89         327Nm@2600rpm       4 Cylinder, VCDi         1991              4   \n",
       "38        74.5Nm@4000rpm          Petrol Engine          814              3   \n",
       "60    330Nm@1600-2800rpm    mHawk Diesel Engine         2179              4   \n",
       "\n",
       "     Turbo_charger  Length Width Height Wheel_Base Front_Tread Kerb_Weight  \\\n",
       "35  73.0 X 89.4 mm  4440mm  1695   1495       2600        1480        1085   \n",
       "20             Yes  3985mm  1734   1505       2570        1505        1515   \n",
       "89              No  4597mm  1788   1477       2685        1544        1520   \n",
       "38              No  3495mm  1550   1500       2380        1386          --   \n",
       "60             Yes  4585mm  1890   1785       2700      2450kg          --   \n",
       "\n",
       "   Gear_Box     Front_Brake_Type      Rear_Brake_Type Steering_Type  \\\n",
       "35   5  CVT                 Disc                 Drum         Power   \n",
       "20       6                  Disc                 Drum         Power   \n",
       "89       6                  Disc      Tubeless,Radial          5.4m   \n",
       "38       5                  Disc                 Drum         Power   \n",
       "60       6   Disc & Caliper Type  Disc & Caliper Type         Power   \n",
       "\n",
       "          Tyre_Type      Price  \n",
       "35  Tubeless,Radial  8.39 Lakh  \n",
       "20         Tubeless  6.67 Lakh  \n",
       "89               --  6.50 Lakh  \n",
       "38         Tubeless  2.93 Lakh  \n",
       "60  Tubeless,Radial  6.50 Lakh  "
      ]
     },
     "execution_count": 73,
     "metadata": {},
     "output_type": "execute_result"
    }
   ],
   "source": [
    "data = list(zip(Model, Manufactring_year, KMs_driven, Fuel_Type,Ownership, Transmission, Insurance_Validity,\n",
    "               Seats, RTO,Engine_displacement, Milage, Max_power,  Torque,\n",
    "               Color, Max_Torque, Engine_Type, Displacement, No_of_cylinder, Turbo_charger, \n",
    "               Length, Width, Height, Wheel_Base, Front_Tread, Kerb_Weight, Gear_Box, Front_Brake_Type, \n",
    "               Rear_Brake_Type, Steering_Type, Tyre_Type, Price))\n",
    "\n",
    "Set2 = pd.DataFrame(data, columns=['Model', 'Manufactring_year', 'KMs_driven', 'Fuel_Type','Ownership', 'Transmission', \n",
    "               'Insurance_Validity','Seats', 'RTO','Engine_displacement', 'Milage', 'Max_power',  'Torque',\n",
    "               'Color', 'Max_Torque', 'Engine_Type', 'Displacement', 'No_of_cylinder', 'Turbo_charger', \n",
    "               'Length', 'Width', 'Height', 'Wheel_Base', 'Front_Tread', 'Kerb_Weight', 'Gear_Box', 'Front_Brake_Type', \n",
    "               'Rear_Brake_Type', 'Steering_Type', 'Tyre_Type', 'Price'])\n",
    "\n",
    "pd.set_option('display.max_columns', 35)\n",
    "Set1.sample(n=5)"
   ]
  },
  {
   "cell_type": "code",
   "execution_count": 75,
   "id": "4030334d",
   "metadata": {},
   "outputs": [
    {
     "data": {
      "text/plain": [
       "(97, 31)"
      ]
     },
     "execution_count": 75,
     "metadata": {},
     "output_type": "execute_result"
    }
   ],
   "source": [
    "# saving the dataframe \n",
    "Set2.to_csv('Set1.csv') \n",
    "Set2.shape"
   ]
  },
  {
   "cell_type": "code",
   "execution_count": null,
   "id": "247c5556",
   "metadata": {},
   "outputs": [],
   "source": []
  }
 ],
 "metadata": {
  "kernelspec": {
   "display_name": "Python 3 (ipykernel)",
   "language": "python",
   "name": "python3"
  },
  "language_info": {
   "codemirror_mode": {
    "name": "ipython",
    "version": 3
   },
   "file_extension": ".py",
   "mimetype": "text/x-python",
   "name": "python",
   "nbconvert_exporter": "python",
   "pygments_lexer": "ipython3",
   "version": "3.9.7"
  }
 },
 "nbformat": 4,
 "nbformat_minor": 5
}
